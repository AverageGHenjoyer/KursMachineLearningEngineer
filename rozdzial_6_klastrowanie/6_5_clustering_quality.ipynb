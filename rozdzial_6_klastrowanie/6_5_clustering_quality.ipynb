{
 "cells": [
  {
   "metadata": {},
   "cell_type": "markdown",
   "source": [
    "## 6.5 Pomiar jakości klastrowania\n",
    "W przypadku metod klastrowania, możemy rozpatrywać kwestię jakości na dwa sposoby. Jeśli znamy oczekiwany docelowy podział, to możemy sprawdzić czy wygenerowane klastry odpowiadają naszym oczekiwaniom. Jeśli jednak szukamy naturalnego podziału danych, ale nie zakładamy nic na temat podobieństwa poszczególnych obserwacji, to możemy rozpatrywać jakość w kategorii podobieństw wewnątrz klastrów."
   ],
   "id": "b3a2b8e58ccaf757"
  },
  {
   "metadata": {},
   "cell_type": "markdown",
   "source": [
    "### Jakość w przypadku nadzorowanym\n",
    "Powróćmy do przypadku zbioru danych Titanic. Nauczmy jeszcze raz ten sam model co w poprzednim rozdziale i zbadajmy jaka jest jakość takiego rozwiązania."
   ],
   "id": "f7c2604b23cff643"
  },
  {
   "metadata": {
    "ExecuteTime": {
     "end_time": "2024-09-04T11:12:41.296765Z",
     "start_time": "2024-09-04T11:12:40.729582Z"
    }
   },
   "cell_type": "code",
   "source": [
    "from random import random\n",
    "\n",
    "import pandas as pd"
   ],
   "id": "a66890cb505ffb7a",
   "outputs": [],
   "execution_count": 2
  },
  {
   "metadata": {
    "ExecuteTime": {
     "end_time": "2024-09-04T11:13:06.666482Z",
     "start_time": "2024-09-04T11:13:06.612774Z"
    }
   },
   "cell_type": "code",
   "source": [
    "reduced_titanic_df = pd.read_parquet(\"../data/titanic-reduced.parquet\")\n",
    "reduced_titanic_df.sample(5)"
   ],
   "id": "62b891d15935c534",
   "outputs": [
    {
     "data": {
      "text/plain": [
       "     Survived  Pclass   Age  Siblings/Spouses Aboard  Parents/Children Aboard  \\\n",
       "812         0       3  23.0                        0                        0   \n",
       "461         0       3  34.0                        0                        0   \n",
       "200         0       3  17.0                        8                        2   \n",
       "196         0       3  42.0                        0                        1   \n",
       "205         0       3  32.0                        1                        0   \n",
       "\n",
       "        Fare  Master.    Dr.   Rev.  Names_count  \n",
       "812   7.9250    False  False  False            4  \n",
       "461   8.0500    False  False  False            3  \n",
       "200  69.5500    False  False  False            3  \n",
       "196   8.4042    False  False  False            5  \n",
       "205  15.8500    False  False  False            4  "
      ],
      "text/html": [
       "<div>\n",
       "<style scoped>\n",
       "    .dataframe tbody tr th:only-of-type {\n",
       "        vertical-align: middle;\n",
       "    }\n",
       "\n",
       "    .dataframe tbody tr th {\n",
       "        vertical-align: top;\n",
       "    }\n",
       "\n",
       "    .dataframe thead th {\n",
       "        text-align: right;\n",
       "    }\n",
       "</style>\n",
       "<table border=\"1\" class=\"dataframe\">\n",
       "  <thead>\n",
       "    <tr style=\"text-align: right;\">\n",
       "      <th></th>\n",
       "      <th>Survived</th>\n",
       "      <th>Pclass</th>\n",
       "      <th>Age</th>\n",
       "      <th>Siblings/Spouses Aboard</th>\n",
       "      <th>Parents/Children Aboard</th>\n",
       "      <th>Fare</th>\n",
       "      <th>Master.</th>\n",
       "      <th>Dr.</th>\n",
       "      <th>Rev.</th>\n",
       "      <th>Names_count</th>\n",
       "    </tr>\n",
       "  </thead>\n",
       "  <tbody>\n",
       "    <tr>\n",
       "      <th>812</th>\n",
       "      <td>0</td>\n",
       "      <td>3</td>\n",
       "      <td>23.0</td>\n",
       "      <td>0</td>\n",
       "      <td>0</td>\n",
       "      <td>7.9250</td>\n",
       "      <td>False</td>\n",
       "      <td>False</td>\n",
       "      <td>False</td>\n",
       "      <td>4</td>\n",
       "    </tr>\n",
       "    <tr>\n",
       "      <th>461</th>\n",
       "      <td>0</td>\n",
       "      <td>3</td>\n",
       "      <td>34.0</td>\n",
       "      <td>0</td>\n",
       "      <td>0</td>\n",
       "      <td>8.0500</td>\n",
       "      <td>False</td>\n",
       "      <td>False</td>\n",
       "      <td>False</td>\n",
       "      <td>3</td>\n",
       "    </tr>\n",
       "    <tr>\n",
       "      <th>200</th>\n",
       "      <td>0</td>\n",
       "      <td>3</td>\n",
       "      <td>17.0</td>\n",
       "      <td>8</td>\n",
       "      <td>2</td>\n",
       "      <td>69.5500</td>\n",
       "      <td>False</td>\n",
       "      <td>False</td>\n",
       "      <td>False</td>\n",
       "      <td>3</td>\n",
       "    </tr>\n",
       "    <tr>\n",
       "      <th>196</th>\n",
       "      <td>0</td>\n",
       "      <td>3</td>\n",
       "      <td>42.0</td>\n",
       "      <td>0</td>\n",
       "      <td>1</td>\n",
       "      <td>8.4042</td>\n",
       "      <td>False</td>\n",
       "      <td>False</td>\n",
       "      <td>False</td>\n",
       "      <td>5</td>\n",
       "    </tr>\n",
       "    <tr>\n",
       "      <th>205</th>\n",
       "      <td>0</td>\n",
       "      <td>3</td>\n",
       "      <td>32.0</td>\n",
       "      <td>1</td>\n",
       "      <td>0</td>\n",
       "      <td>15.8500</td>\n",
       "      <td>False</td>\n",
       "      <td>False</td>\n",
       "      <td>False</td>\n",
       "      <td>4</td>\n",
       "    </tr>\n",
       "  </tbody>\n",
       "</table>\n",
       "</div>"
      ]
     },
     "execution_count": 3,
     "metadata": {},
     "output_type": "execute_result"
    }
   ],
   "execution_count": 3
  },
  {
   "metadata": {
    "ExecuteTime": {
     "end_time": "2024-09-04T11:13:56.072102Z",
     "start_time": "2024-09-04T11:13:56.058805Z"
    }
   },
   "cell_type": "code",
   "source": "titanic_df = pd.read_parquet(\"../data/titanic-final.parquet\")",
   "id": "a0979cfa3b9479c5",
   "outputs": [],
   "execution_count": 4
  },
  {
   "metadata": {
    "ExecuteTime": {
     "end_time": "2024-09-04T11:13:59.752280Z",
     "start_time": "2024-09-04T11:13:59.736446Z"
    }
   },
   "cell_type": "code",
   "source": "titanic_df",
   "id": "94938fc709fc415a",
   "outputs": [
    {
     "data": {
      "text/plain": [
       "     Survived  Pclass   Age  Siblings/Spouses Aboard  Parents/Children Aboard  \\\n",
       "0           0       3  22.0                        1                        0   \n",
       "1           1       1  38.0                        1                        0   \n",
       "2           1       3  26.0                        0                        0   \n",
       "3           1       1  35.0                        1                        0   \n",
       "4           0       3  35.0                        0                        0   \n",
       "..        ...     ...   ...                      ...                      ...   \n",
       "882         0       2  27.0                        0                        0   \n",
       "883         1       1  19.0                        0                        0   \n",
       "884         0       3   7.0                        1                        2   \n",
       "885         1       1  26.0                        0                        0   \n",
       "886         0       3  32.0                        0                        0   \n",
       "\n",
       "        Fare    Mr.  Miss.   Mrs.  Master.    Dr.   Rev.  Names_count  \\\n",
       "0     7.2500   True  False  False    False  False  False            4   \n",
       "1    71.2833  False  False   True    False  False  False            7   \n",
       "2     7.9250  False   True  False    False  False  False            3   \n",
       "3    53.1000  False  False   True    False  False  False            7   \n",
       "4     8.0500   True  False  False    False  False  False            4   \n",
       "..       ...    ...    ...    ...      ...    ...    ...          ...   \n",
       "882  13.0000  False  False  False    False  False   True            3   \n",
       "883  30.0000  False   True  False    False  False  False            4   \n",
       "884  23.4500  False   True  False    False  False  False            4   \n",
       "885  30.0000   True  False  False    False  False  False            4   \n",
       "886   7.7500   True  False  False    False  False  False            3   \n",
       "\n",
       "     Sex_female  \n",
       "0         False  \n",
       "1          True  \n",
       "2          True  \n",
       "3          True  \n",
       "4         False  \n",
       "..          ...  \n",
       "882       False  \n",
       "883        True  \n",
       "884        True  \n",
       "885       False  \n",
       "886       False  \n",
       "\n",
       "[887 rows x 14 columns]"
      ],
      "text/html": [
       "<div>\n",
       "<style scoped>\n",
       "    .dataframe tbody tr th:only-of-type {\n",
       "        vertical-align: middle;\n",
       "    }\n",
       "\n",
       "    .dataframe tbody tr th {\n",
       "        vertical-align: top;\n",
       "    }\n",
       "\n",
       "    .dataframe thead th {\n",
       "        text-align: right;\n",
       "    }\n",
       "</style>\n",
       "<table border=\"1\" class=\"dataframe\">\n",
       "  <thead>\n",
       "    <tr style=\"text-align: right;\">\n",
       "      <th></th>\n",
       "      <th>Survived</th>\n",
       "      <th>Pclass</th>\n",
       "      <th>Age</th>\n",
       "      <th>Siblings/Spouses Aboard</th>\n",
       "      <th>Parents/Children Aboard</th>\n",
       "      <th>Fare</th>\n",
       "      <th>Mr.</th>\n",
       "      <th>Miss.</th>\n",
       "      <th>Mrs.</th>\n",
       "      <th>Master.</th>\n",
       "      <th>Dr.</th>\n",
       "      <th>Rev.</th>\n",
       "      <th>Names_count</th>\n",
       "      <th>Sex_female</th>\n",
       "    </tr>\n",
       "  </thead>\n",
       "  <tbody>\n",
       "    <tr>\n",
       "      <th>0</th>\n",
       "      <td>0</td>\n",
       "      <td>3</td>\n",
       "      <td>22.0</td>\n",
       "      <td>1</td>\n",
       "      <td>0</td>\n",
       "      <td>7.2500</td>\n",
       "      <td>True</td>\n",
       "      <td>False</td>\n",
       "      <td>False</td>\n",
       "      <td>False</td>\n",
       "      <td>False</td>\n",
       "      <td>False</td>\n",
       "      <td>4</td>\n",
       "      <td>False</td>\n",
       "    </tr>\n",
       "    <tr>\n",
       "      <th>1</th>\n",
       "      <td>1</td>\n",
       "      <td>1</td>\n",
       "      <td>38.0</td>\n",
       "      <td>1</td>\n",
       "      <td>0</td>\n",
       "      <td>71.2833</td>\n",
       "      <td>False</td>\n",
       "      <td>False</td>\n",
       "      <td>True</td>\n",
       "      <td>False</td>\n",
       "      <td>False</td>\n",
       "      <td>False</td>\n",
       "      <td>7</td>\n",
       "      <td>True</td>\n",
       "    </tr>\n",
       "    <tr>\n",
       "      <th>2</th>\n",
       "      <td>1</td>\n",
       "      <td>3</td>\n",
       "      <td>26.0</td>\n",
       "      <td>0</td>\n",
       "      <td>0</td>\n",
       "      <td>7.9250</td>\n",
       "      <td>False</td>\n",
       "      <td>True</td>\n",
       "      <td>False</td>\n",
       "      <td>False</td>\n",
       "      <td>False</td>\n",
       "      <td>False</td>\n",
       "      <td>3</td>\n",
       "      <td>True</td>\n",
       "    </tr>\n",
       "    <tr>\n",
       "      <th>3</th>\n",
       "      <td>1</td>\n",
       "      <td>1</td>\n",
       "      <td>35.0</td>\n",
       "      <td>1</td>\n",
       "      <td>0</td>\n",
       "      <td>53.1000</td>\n",
       "      <td>False</td>\n",
       "      <td>False</td>\n",
       "      <td>True</td>\n",
       "      <td>False</td>\n",
       "      <td>False</td>\n",
       "      <td>False</td>\n",
       "      <td>7</td>\n",
       "      <td>True</td>\n",
       "    </tr>\n",
       "    <tr>\n",
       "      <th>4</th>\n",
       "      <td>0</td>\n",
       "      <td>3</td>\n",
       "      <td>35.0</td>\n",
       "      <td>0</td>\n",
       "      <td>0</td>\n",
       "      <td>8.0500</td>\n",
       "      <td>True</td>\n",
       "      <td>False</td>\n",
       "      <td>False</td>\n",
       "      <td>False</td>\n",
       "      <td>False</td>\n",
       "      <td>False</td>\n",
       "      <td>4</td>\n",
       "      <td>False</td>\n",
       "    </tr>\n",
       "    <tr>\n",
       "      <th>...</th>\n",
       "      <td>...</td>\n",
       "      <td>...</td>\n",
       "      <td>...</td>\n",
       "      <td>...</td>\n",
       "      <td>...</td>\n",
       "      <td>...</td>\n",
       "      <td>...</td>\n",
       "      <td>...</td>\n",
       "      <td>...</td>\n",
       "      <td>...</td>\n",
       "      <td>...</td>\n",
       "      <td>...</td>\n",
       "      <td>...</td>\n",
       "      <td>...</td>\n",
       "    </tr>\n",
       "    <tr>\n",
       "      <th>882</th>\n",
       "      <td>0</td>\n",
       "      <td>2</td>\n",
       "      <td>27.0</td>\n",
       "      <td>0</td>\n",
       "      <td>0</td>\n",
       "      <td>13.0000</td>\n",
       "      <td>False</td>\n",
       "      <td>False</td>\n",
       "      <td>False</td>\n",
       "      <td>False</td>\n",
       "      <td>False</td>\n",
       "      <td>True</td>\n",
       "      <td>3</td>\n",
       "      <td>False</td>\n",
       "    </tr>\n",
       "    <tr>\n",
       "      <th>883</th>\n",
       "      <td>1</td>\n",
       "      <td>1</td>\n",
       "      <td>19.0</td>\n",
       "      <td>0</td>\n",
       "      <td>0</td>\n",
       "      <td>30.0000</td>\n",
       "      <td>False</td>\n",
       "      <td>True</td>\n",
       "      <td>False</td>\n",
       "      <td>False</td>\n",
       "      <td>False</td>\n",
       "      <td>False</td>\n",
       "      <td>4</td>\n",
       "      <td>True</td>\n",
       "    </tr>\n",
       "    <tr>\n",
       "      <th>884</th>\n",
       "      <td>0</td>\n",
       "      <td>3</td>\n",
       "      <td>7.0</td>\n",
       "      <td>1</td>\n",
       "      <td>2</td>\n",
       "      <td>23.4500</td>\n",
       "      <td>False</td>\n",
       "      <td>True</td>\n",
       "      <td>False</td>\n",
       "      <td>False</td>\n",
       "      <td>False</td>\n",
       "      <td>False</td>\n",
       "      <td>4</td>\n",
       "      <td>True</td>\n",
       "    </tr>\n",
       "    <tr>\n",
       "      <th>885</th>\n",
       "      <td>1</td>\n",
       "      <td>1</td>\n",
       "      <td>26.0</td>\n",
       "      <td>0</td>\n",
       "      <td>0</td>\n",
       "      <td>30.0000</td>\n",
       "      <td>True</td>\n",
       "      <td>False</td>\n",
       "      <td>False</td>\n",
       "      <td>False</td>\n",
       "      <td>False</td>\n",
       "      <td>False</td>\n",
       "      <td>4</td>\n",
       "      <td>False</td>\n",
       "    </tr>\n",
       "    <tr>\n",
       "      <th>886</th>\n",
       "      <td>0</td>\n",
       "      <td>3</td>\n",
       "      <td>32.0</td>\n",
       "      <td>0</td>\n",
       "      <td>0</td>\n",
       "      <td>7.7500</td>\n",
       "      <td>True</td>\n",
       "      <td>False</td>\n",
       "      <td>False</td>\n",
       "      <td>False</td>\n",
       "      <td>False</td>\n",
       "      <td>False</td>\n",
       "      <td>3</td>\n",
       "      <td>False</td>\n",
       "    </tr>\n",
       "  </tbody>\n",
       "</table>\n",
       "<p>887 rows × 14 columns</p>\n",
       "</div>"
      ]
     },
     "execution_count": 5,
     "metadata": {},
     "output_type": "execute_result"
    }
   ],
   "execution_count": 5
  },
  {
   "metadata": {},
   "cell_type": "markdown",
   "source": [
    "### Ponowne nauczenie modelu\n",
    "Stworzymy ten sam model co poprzednio, zanim jeszcze zaczniemy mierzyć jakość powstałych klientów."
   ],
   "id": "69e2b8a152941ac9"
  },
  {
   "metadata": {
    "ExecuteTime": {
     "end_time": "2024-09-04T11:18:58.702920Z",
     "start_time": "2024-09-04T11:18:57.814031Z"
    }
   },
   "cell_type": "code",
   "source": [
    "from sklearn.preprocessing import StandardScaler\n",
    "from sklearn.pipeline import Pipeline\n",
    "from sklearn.cluster import KMeans"
   ],
   "id": "b1fb1a76e9a0ca5a",
   "outputs": [],
   "execution_count": 6
  },
  {
   "metadata": {
    "ExecuteTime": {
     "end_time": "2024-09-04T11:19:53.801981Z",
     "start_time": "2024-09-04T11:19:53.797950Z"
    }
   },
   "cell_type": "code",
   "source": [
    "pipeline = Pipeline(steps=[\n",
    "    (\"scaler\", StandardScaler()),\n",
    "    (\"clustering\", KMeans(n_clusters=2, random_state=2019))\n",
    "], verbose=True)\n"
   ],
   "id": "a868fc8ed4a8c909",
   "outputs": [],
   "execution_count": 7
  },
  {
   "metadata": {
    "ExecuteTime": {
     "end_time": "2024-09-04T11:19:57.446Z",
     "start_time": "2024-09-04T11:19:57.440844Z"
    }
   },
   "cell_type": "code",
   "source": "import numpy as np",
   "id": "d0126a06d221b449",
   "outputs": [],
   "execution_count": 8
  },
  {
   "metadata": {
    "ExecuteTime": {
     "end_time": "2024-09-04T11:20:31.781954Z",
     "start_time": "2024-09-04T11:20:31.698322Z"
    }
   },
   "cell_type": "code",
   "source": "clusters = pipeline.fit_predict(reduced_titanic_df.drop(columns=\"Survived\"))",
   "id": "df9061e507cd68ce",
   "outputs": [
    {
     "name": "stdout",
     "output_type": "stream",
     "text": [
      "[Pipeline] ............ (step 1 of 2) Processing scaler, total=   0.0s\n",
      "[Pipeline] ........ (step 2 of 2) Processing clustering, total=   0.1s\n"
     ]
    }
   ],
   "execution_count": 9
  },
  {
   "metadata": {},
   "cell_type": "markdown",
   "source": [
    "### Jednorodność (ang. Homogeneity)\n",
    "Jednorodność jest miarą, która pozwala oszacować, czy powstałe klastry są zgodne z oczekiwanym podziałem, tj. czy każdy klaster zawiera tylko elementy pojedynczej klasy. Miara ta jest wartością z przedziału [0, 1], gdzie 1 oznacza perfekcyjne dopasowanie."
   ],
   "id": "c161719a1ae3c3ef"
  },
  {
   "metadata": {
    "ExecuteTime": {
     "end_time": "2024-09-04T11:21:53.587541Z",
     "start_time": "2024-09-04T11:21:53.582756Z"
    }
   },
   "cell_type": "code",
   "source": "from sklearn.metrics import homogeneity_score",
   "id": "b8960b92242d2430",
   "outputs": [],
   "execution_count": 10
  },
  {
   "metadata": {
    "ExecuteTime": {
     "end_time": "2024-09-04T11:22:10.169140Z",
     "start_time": "2024-09-04T11:22:10.132190Z"
    }
   },
   "cell_type": "code",
   "source": "homogeneity_score(reduced_titanic_df[\"Survived\"], clusters)",
   "id": "e8e70c6ceb6fcf24",
   "outputs": [
    {
     "data": {
      "text/plain": [
       "np.float64(0.06785211461108759)"
      ]
     },
     "execution_count": 11,
     "metadata": {},
     "output_type": "execute_result"
    }
   ],
   "execution_count": 11
  },
  {
   "metadata": {},
   "cell_type": "markdown",
   "source": [
    "### Kompletność (ang. Completeness)\n",
    "Kompletność mierzy jakość klastrowania poprzez sprawdzenie czy wszystkie elementy należące do każdej klasy należą równocześnie do tego samego klastra."
   ],
   "id": "50da6017589e686c"
  },
  {
   "metadata": {
    "ExecuteTime": {
     "end_time": "2024-09-04T11:25:56.679503Z",
     "start_time": "2024-09-04T11:25:56.674589Z"
    }
   },
   "cell_type": "code",
   "source": "from sklearn.metrics import completeness_score",
   "id": "bbf1a018559182c4",
   "outputs": [],
   "execution_count": 12
  },
  {
   "metadata": {
    "ExecuteTime": {
     "end_time": "2024-09-04T11:26:38.672243Z",
     "start_time": "2024-09-04T11:26:38.659569Z"
    }
   },
   "cell_type": "code",
   "source": "completeness_score(reduced_titanic_df[\"Survived\"], clusters)",
   "id": "c1f748b77af963cd",
   "outputs": [
    {
     "data": {
      "text/plain": [
       "np.float64(0.07418491399845831)"
      ]
     },
     "execution_count": 13,
     "metadata": {},
     "output_type": "execute_result"
    }
   ],
   "execution_count": 13
  },
  {
   "metadata": {},
   "cell_type": "markdown",
   "source": [
    "### V-measure\n",
    "Gdybyśmy wykorzystali średnią harmoniczną jednorodności oraz kompletności, to otrzymamy metrykę V-measure."
   ],
   "id": "6b734f8feec45f56"
  },
  {
   "metadata": {
    "ExecuteTime": {
     "end_time": "2024-09-04T11:27:24.924153Z",
     "start_time": "2024-09-04T11:27:24.919257Z"
    }
   },
   "cell_type": "code",
   "source": "from sklearn.metrics import v_measure_score",
   "id": "2cfff9ea8a1d56bd",
   "outputs": [],
   "execution_count": 14
  },
  {
   "metadata": {
    "ExecuteTime": {
     "end_time": "2024-09-04T11:27:36.518484Z",
     "start_time": "2024-09-04T11:27:36.507114Z"
    }
   },
   "cell_type": "code",
   "source": "v_measure_score(reduced_titanic_df[\"Survived\"], clusters)",
   "id": "c9701fcd84a08e17",
   "outputs": [
    {
     "data": {
      "text/plain": [
       "np.float64(0.07087733862518686)"
      ]
     },
     "execution_count": 15,
     "metadata": {},
     "output_type": "execute_result"
    }
   ],
   "execution_count": 15
  },
  {
   "metadata": {},
   "cell_type": "markdown",
   "source": [
    "### Pomiar jakości, a uczenie nienadzorowane\n",
    "Rozpatrując klastrowanie w uczeniu nadzorowanym, jesteśmy w stanie równie dobrze skorzystać z metryk charakterystycznych dla klasyfikacji, żeby zmierzyć skuteczność naszego rozwiązania. W sytuacji iczenia bez podanych etykiet, musimy do problemu podejść w inny sposób i oprzeć pomiar jakości na odległości poszczególnych obserwacji od siebie.\n",
    "\n",
    "Metody te potrzebują do obliczeń zbioru danych, ale w takiej postaci, w jakiej jest on przekazywany do metody klastrowania."
   ],
   "id": "a11600fc1452ea6"
  },
  {
   "metadata": {
    "ExecuteTime": {
     "end_time": "2024-09-04T11:33:05.441995Z",
     "start_time": "2024-09-04T11:33:05.432233Z"
    }
   },
   "cell_type": "code",
   "source": "X = pipeline.named_steps[\"scaler\"].transform(reduced_titanic_df.drop(columns=\"Survived\"))",
   "id": "fc0af7c1e0490e0e",
   "outputs": [],
   "execution_count": 17
  },
  {
   "metadata": {},
   "cell_type": "markdown",
   "source": [
    "### Silhouette\n",
    "Ta metoda pozwala na obliczenie tego, jak bardzo dany obiekt jest podobny do swojego klastra w porównaniu do innych klastrów. Metryka zwraca wartość w przedziale [-1, 1]."
   ],
   "id": "cad8305bd9056f6"
  },
  {
   "metadata": {
    "ExecuteTime": {
     "end_time": "2024-09-04T11:37:05.083891Z",
     "start_time": "2024-09-04T11:37:05.078367Z"
    }
   },
   "cell_type": "code",
   "source": "from sklearn.metrics import silhouette_score, silhouette_samples",
   "id": "1cc17adc3d83a949",
   "outputs": [],
   "execution_count": 21
  },
  {
   "metadata": {
    "ExecuteTime": {
     "end_time": "2024-09-04T11:37:05.308469Z",
     "start_time": "2024-09-04T11:37:05.255519Z"
    }
   },
   "cell_type": "code",
   "source": "silhouette_samples(X, clusters)",
   "id": "7028b6fa91821f50",
   "outputs": [
    {
     "data": {
      "text/plain": [
       "array([ 5.09555525e-01,  1.81085671e-01,  5.48570171e-01,  1.53256600e-01,\n",
       "        4.82657695e-01,  5.45655446e-01,  2.12260904e-01,  2.04596983e-01,\n",
       "        1.66660119e-01,  2.67592175e-01,  4.21076548e-01,  1.20612435e-01,\n",
       "        5.40310105e-01,  1.07794587e-01,  4.35534488e-01, -2.26504535e-02,\n",
       "        1.92715990e-01,  3.68321645e-01,  1.87532565e-01,  5.52753278e-01,\n",
       "        2.63610942e-01,  3.31497017e-01,  5.28897448e-01,  3.17304173e-02,\n",
       "        3.29455629e-01,  4.85390876e-02,  5.36024358e-01,  9.41658107e-02,\n",
       "        5.52068316e-01,  5.52723407e-01,  1.17053029e-01,  2.41977086e-01,\n",
       "        5.34885009e-01, -1.32537538e-02,  1.13406210e-01,  1.62215436e-01,\n",
       "        5.42784845e-01,  5.41757751e-01,  3.65108686e-01,  5.00106646e-01,\n",
       "        2.42201628e-01, -2.87202787e-02,  1.49476837e-01,  5.37996189e-01,\n",
       "        5.18623112e-01,  5.11070045e-01,  5.45937209e-01,  4.26413650e-01,\n",
       "        4.22231971e-01,  1.80261527e-01,  5.41861129e-01,  2.33757337e-01,\n",
       "       -1.22532477e-01,  1.98730118e-01,  9.61610264e-02,  3.94886045e-01,\n",
       "        5.40552879e-01,  2.46447126e-01,  1.49757938e-01,  5.52752660e-01,\n",
       "        1.22602901e-01,  2.12616299e-01,  1.95145972e-01,  1.80236540e-01,\n",
       "        2.28259749e-01,  3.43297877e-01,  5.37882159e-01,  2.44257574e-01,\n",
       "        4.27732484e-01,  3.20849808e-01,  1.87398770e-01,  2.24370042e-01,\n",
       "        5.07710720e-01,  4.28013230e-01,  5.38443088e-01,  5.52723407e-01,\n",
       "        5.28540622e-01,  1.53953581e-01,  5.29989937e-01,  5.52021236e-01,\n",
       "        5.23151129e-01,  5.12663198e-01,  5.92723723e-02,  3.95646508e-01,\n",
       "        1.49738245e-01,  2.45719235e-01,  5.40310105e-01,  1.02067592e-01,\n",
       "        5.52005768e-01,  5.38064584e-01,  5.40389337e-01,  1.93732193e-01,\n",
       "        3.31296477e-01,  2.60870842e-01,  5.42114678e-01,  1.79942170e-01,\n",
       "        3.70934880e-02, -3.15446415e-02,  2.95435695e-01,  5.42424505e-01,\n",
       "        5.38126125e-01,  4.71005833e-02,  4.98282589e-01,  3.68222075e-01,\n",
       "        5.42424505e-01,  5.41911747e-01,  5.24073715e-01,  4.72439256e-01,\n",
       "        4.91694888e-01,  1.98625583e-01,  4.99890298e-01,  5.42114678e-01,\n",
       "        5.14530918e-01,  5.34209772e-01,  5.51203284e-01,  1.67401556e-01,\n",
       "        2.23551947e-01,  1.45910976e-01,  2.18452363e-01,  1.90769121e-01,\n",
       "        5.37930611e-01,  2.98876637e-01,  3.43091901e-01,  2.11777512e-01,\n",
       "        2.27589912e-01,  5.46194961e-01,  5.40543070e-01,  4.16812942e-01,\n",
       "        4.02952412e-01,  5.13961492e-01,  5.40617849e-01,  1.22785329e-01,\n",
       "       -1.22532477e-01,  2.69011928e-01,  3.86507314e-01, -6.48750488e-02,\n",
       "        1.33559059e-01,  5.25990277e-01,  2.47988967e-02,  2.78848887e-01,\n",
       "        5.42236185e-01,  2.11478890e-01,  5.46416248e-01,  3.77505224e-01,\n",
       "        2.88334132e-01,  5.32559126e-01,  3.11372538e-01,  1.82816868e-01,\n",
       "        7.74072442e-03,  8.61678837e-03,  7.82974622e-02,  2.93561497e-01,\n",
       "        2.33717253e-01,  5.32752919e-01,  1.92051432e-01,  5.33975026e-01,\n",
       "        5.33032441e-01,  4.81045953e-01,  1.03409974e-01,  3.42279123e-01,\n",
       "       -7.09890779e-02,  5.35818862e-01,  5.38201237e-01,  1.82812793e-01,\n",
       "        1.81672518e-01,  2.02750278e-01,  9.02108872e-02,  1.78812517e-01,\n",
       "        4.46590850e-01,  2.05844355e-01,  1.92138546e-01,  4.12572359e-01,\n",
       "        5.41811817e-01,  1.85167576e-01,  4.59737033e-01,  2.02061351e-01,\n",
       "        1.69661967e-01,  3.59977059e-01,  4.91600931e-01,  1.12750758e-01,\n",
       "        2.83086045e-01,  1.59354671e-01,  1.62749529e-01,  3.37480159e-01,\n",
       "        1.56500767e-01,  4.13310354e-01,  1.45321421e-01,  3.83541437e-01,\n",
       "        4.90205069e-01,  3.46725737e-01,  3.93709016e-01,  4.29617065e-01,\n",
       "        1.71126602e-01,  1.64321772e-01,  1.97554422e-01,  5.42476003e-01,\n",
       "        3.01188363e-01,  5.51265889e-01,  3.86467609e-01,  4.26393813e-01,\n",
       "        1.12521217e-01,  4.91650276e-01,  3.97512731e-01,  5.42517740e-01,\n",
       "        4.19499116e-01,  4.70837352e-01,  5.25564343e-01,  5.33969761e-01,\n",
       "        5.00543943e-02,  5.52275853e-01,  2.74708114e-01,  5.42395264e-01,\n",
       "        3.32861503e-01,  5.16232814e-01,  1.08145109e-01,  5.45880462e-01,\n",
       "       -1.81993350e-01,  7.99002993e-02,  3.62949666e-01,  5.26520713e-01,\n",
       "        3.51742541e-01,  3.18693310e-01,  5.52592753e-01,  1.88181071e-01,\n",
       "        4.41086022e-01,  3.78183954e-01,  5.41395787e-01,  3.75780287e-01,\n",
       "        3.37448597e-01,  1.95918380e-01,  5.24073715e-01, -4.98486322e-02,\n",
       "        2.39898311e-01,  2.77108281e-01,  5.41941082e-01,  2.05956739e-01,\n",
       "        2.61264441e-01,  3.78183954e-01,  3.09669144e-01,  5.10668838e-01,\n",
       "        5.08241325e-01,  3.43297877e-01,  5.42425576e-01,  5.33320314e-01,\n",
       "        3.24655472e-02,  4.37067587e-01,  2.26009251e-01,  1.10195602e-01,\n",
       "        1.07355453e-02,  5.35035848e-01,  2.77107575e-01,  1.79542537e-01,\n",
       "        4.81917267e-01,  2.25841224e-01,  2.19575446e-01,  1.87630935e-01,\n",
       "        8.15059511e-02,  9.77908299e-02, -9.43417473e-02,  1.62874888e-01,\n",
       "        1.49503064e-01, -2.45974612e-02,  5.51265889e-01,  3.17712033e-01,\n",
       "        2.56241313e-01,  5.05908611e-01,  2.40628304e-01,  1.49107991e-01,\n",
       "       -4.80349976e-02,  5.38533246e-01, -1.18664118e-01,  7.25107291e-02,\n",
       "        5.14021538e-01,  2.19978863e-01,  3.83889545e-01,  4.02125456e-01,\n",
       "        1.90826892e-01,  3.31259729e-01,  2.08680601e-01,  4.27495802e-01,\n",
       "        5.25841009e-01,  5.37930611e-01,  1.77753897e-01,  5.13586609e-01,\n",
       "        5.17789959e-01,  5.52592753e-01,  2.55817385e-01,  5.52643752e-01,\n",
       "        3.99323207e-02,  1.10478495e-01,  2.79993497e-01,  5.51637398e-01,\n",
       "        5.52062633e-01,  3.10927637e-02,  5.52649581e-01,  1.71741651e-02,\n",
       "        9.14534993e-02,  2.04644793e-01,  5.40425241e-01,  4.21361873e-01,\n",
       "        4.45575691e-01, -1.72417434e-01,  5.28540622e-01, -3.62099610e-02,\n",
       "        1.65998107e-01,  5.93035673e-02,  3.26359918e-01,  9.80542112e-02,\n",
       "        8.96655764e-02,  1.05431878e-01,  2.08683008e-01,  5.42424505e-01,\n",
       "        1.94162524e-01,  5.35785477e-01,  2.43799408e-01,  6.95676326e-03,\n",
       "        1.39746895e-01,  2.06344228e-01,  5.52749251e-01,  5.45891327e-01,\n",
       "        3.33825592e-01, -7.77490744e-02,  9.36403607e-02,  2.01393975e-01,\n",
       "        2.20133253e-01, -1.93761103e-01,  1.75662541e-01, -2.69019460e-02,\n",
       "        4.11387134e-01,  7.95856111e-02,  1.99491025e-01,  3.65862294e-01,\n",
       "        2.34224787e-01,  5.33096203e-01,  9.69264222e-02,  2.19357297e-01,\n",
       "        3.83661281e-01,  1.64499929e-01,  1.71713293e-01,  1.03899783e-01,\n",
       "        3.46118804e-01,  2.69011928e-01,  2.79782649e-01,  3.86467609e-01,\n",
       "        2.36123548e-01,  1.77952902e-01,  2.22141702e-01,  4.33155592e-01,\n",
       "        5.40950527e-01,  1.53050161e-01,  4.63861833e-01,  5.07003218e-01,\n",
       "        5.52893738e-01,  4.26393813e-01,  1.21433456e-02,  2.58493334e-01,\n",
       "        5.52599035e-01,  5.41586717e-01,  1.53657781e-01,  2.94979871e-01,\n",
       "        3.35146055e-01,  4.98933395e-01,  5.04198620e-01,  4.18990898e-01,\n",
       "        2.12166464e-01,  4.83097730e-01,  5.52643752e-01,  6.68931708e-02,\n",
       "        3.91856245e-02,  5.06631425e-01,  5.37930611e-01,  8.23494169e-02,\n",
       "        3.24641677e-01,  1.39313258e-01,  5.42395264e-01,  1.35902857e-01,\n",
       "        5.49271440e-01,  5.38032868e-01,  1.66763217e-01,  3.44845279e-01,\n",
       "        5.20954859e-01,  1.52033222e-01,  5.45891327e-01,  2.35735025e-01,\n",
       "        1.55204918e-01,  3.14373562e-01,  5.46201221e-01,  3.94258242e-01,\n",
       "        1.31337813e-01,  5.41862648e-01,  4.11965585e-01,  5.94334588e-02,\n",
       "        2.32334395e-01,  5.52628825e-01,  5.27341479e-01, -1.44319496e-01,\n",
       "       -1.01618336e-02, -1.53298106e-01,  4.63118427e-01,  5.48522236e-01,\n",
       "        5.08389728e-01,  4.91229936e-01,  5.48715137e-01,  3.04017508e-01,\n",
       "        3.18952809e-01,  1.74483920e-01,  4.42712323e-01,  3.30753965e-01,\n",
       "        4.33643783e-01,  5.46147959e-01,  1.58879042e-01,  3.82380469e-01,\n",
       "        3.94419740e-01,  2.90769771e-01, -1.81386213e-02,  2.44514317e-01,\n",
       "        3.32861503e-01,  3.42844501e-01,  5.51270750e-01,  5.38133546e-01,\n",
       "        1.26629465e-01,  4.51076455e-01,  3.09045930e-01, -5.93297189e-02,\n",
       "        3.55054177e-01,  5.42476003e-01,  4.07748568e-01,  8.04736603e-03,\n",
       "        2.73952134e-01,  8.52804687e-03,  5.31160500e-01,  1.97797063e-01,\n",
       "        3.59342783e-02,  3.02475083e-01,  1.27086383e-01,  1.06130601e-01,\n",
       "        2.35190694e-01, -1.55837456e-02,  5.48275426e-01,  5.05908611e-01,\n",
       "        3.70980701e-01,  5.38037816e-01,  7.70485014e-02,  3.26602194e-01,\n",
       "        6.54476747e-02,  3.82757914e-01,  1.78311262e-01,  1.55831182e-01,\n",
       "        4.01610454e-01,  3.11723628e-02,  2.25465689e-01,  5.52005768e-01,\n",
       "        5.38126125e-01,  1.77642898e-01,  1.87732122e-01,  1.77050845e-01,\n",
       "        5.38533107e-01,  8.81846786e-02,  5.06387162e-01,  1.78380849e-01,\n",
       "       -1.49131077e-01,  5.06387162e-01,  4.55992496e-01,  4.02125456e-01,\n",
       "        1.77795199e-01,  5.52650102e-01,  3.71953016e-01,  4.63468455e-01,\n",
       "        4.72014459e-01, -3.29257133e-02, -9.85099533e-02,  5.41117205e-01,\n",
       "        1.66070818e-01,  2.69389018e-01,  4.93007479e-01,  5.42314802e-01,\n",
       "        4.18537848e-01,  1.51171674e-01,  2.87253854e-01,  3.29490735e-01,\n",
       "        2.23608245e-01,  1.01310958e-01,  3.35908997e-01,  1.83655849e-01,\n",
       "        1.84727005e-01,  5.18623112e-01,  2.19795054e-01,  4.20171188e-01,\n",
       "        5.51383273e-01,  1.83668912e-01,  1.53181442e-01,  5.41757751e-01,\n",
       "        5.43611786e-01,  2.24425946e-01,  2.69264135e-01,  1.30099716e-01,\n",
       "        5.52095052e-01,  5.38201237e-01,  5.51265889e-01,  5.41918210e-01,\n",
       "        4.63788502e-01, -2.19689236e-02,  1.21283184e-01, -7.53555010e-02,\n",
       "        1.67330767e-02,  5.12666846e-01,  4.52809419e-01,  5.24084118e-01,\n",
       "        2.00474600e-01,  8.23706142e-02,  2.23738704e-01,  5.52179171e-01,\n",
       "        1.70157010e-01,  3.03299404e-01,  5.14353104e-01, -1.99830354e-02,\n",
       "        5.20967466e-01,  9.07435181e-02,  5.52592753e-01,  4.98863552e-01,\n",
       "        1.78739299e-01,  5.42784845e-01,  4.48732631e-01,  1.77050845e-01,\n",
       "        1.77738580e-01,  4.45763587e-01,  2.73419068e-01,  3.05995346e-01,\n",
       "        5.38680235e-01,  4.59392825e-01,  2.90106134e-01,  5.32742409e-01,\n",
       "        2.44900358e-01,  1.45321421e-01,  1.04794516e-01,  1.47491405e-01,\n",
       "       -1.46827202e-02,  8.88632663e-02,  2.38861960e-01,  2.37697306e-01,\n",
       "        3.10055301e-01,  2.32003298e-01,  1.77685506e-01,  2.63449865e-01,\n",
       "        2.56822445e-01,  4.10478416e-01,  1.43228455e-01,  7.27132347e-02,\n",
       "        2.35047273e-01,  5.51238727e-01,  5.52753278e-01,  5.52635808e-01,\n",
       "        1.26449190e-01,  1.93992507e-01,  1.71437124e-01,  1.94163999e-01,\n",
       "        2.57155293e-01,  5.18760075e-01,  4.53563232e-01,  3.45377717e-01,\n",
       "        4.53474740e-01,  2.09568076e-01,  4.09741693e-01,  5.46147140e-01,\n",
       "        1.24256027e-01,  5.42614318e-01,  5.20983959e-01, -8.09460324e-02,\n",
       "        1.80409687e-01,  8.26340402e-02,  5.52643752e-01,  4.39340165e-01,\n",
       "        5.41413198e-01,  3.31497017e-01,  1.85562275e-01,  4.25097507e-01,\n",
       "        5.20954859e-01,  2.78392479e-01,  1.99052135e-01, -6.46821238e-02,\n",
       "        1.15432792e-01,  5.33600432e-01, -2.75527644e-02, -1.56073514e-01,\n",
       "        1.60627305e-01,  5.52525775e-01,  5.52525775e-01,  4.98904462e-01,\n",
       "        2.37717877e-01,  3.62686135e-01,  3.00145232e-01,  2.31176599e-01,\n",
       "        3.20559843e-01,  2.83023527e-01,  3.64562219e-01,  5.42785907e-01,\n",
       "        2.21674448e-01, -7.28630080e-02,  4.33643783e-01,  1.28077193e-01,\n",
       "        3.94326363e-01,  9.40976806e-05,  4.42733282e-01,  5.33096203e-01,\n",
       "        8.73356930e-03, -5.74918408e-02,  2.13677750e-01,  6.31925697e-02,\n",
       "        5.42059958e-01,  5.01391419e-01,  5.52643752e-01,  4.82657695e-01,\n",
       "        1.82283471e-01,  4.10620972e-01,  2.05709327e-01,  2.66087411e-01,\n",
       "        3.82571009e-01,  5.05017110e-01,  1.93490877e-01,  4.62699361e-01,\n",
       "        5.41840469e-01,  5.34557490e-01,  1.33850595e-01,  1.09853040e-02,\n",
       "        5.54312909e-02,  5.48580633e-01,  5.34890820e-01,  1.76163089e-01,\n",
       "        3.19530570e-01,  1.52005544e-02,  5.09327937e-03,  2.89493886e-01,\n",
       "        3.70980701e-01,  5.05909547e-01,  2.82094087e-01,  7.07007132e-02,\n",
       "        4.48112905e-01,  5.40389337e-01,  5.37550636e-03,  2.78320616e-01,\n",
       "        4.28013230e-01,  3.79860818e-01,  2.15692333e-01,  5.46147140e-01,\n",
       "        1.92768407e-01,  5.51318855e-01,  4.41012320e-01,  5.52723407e-01,\n",
       "        3.39080897e-01,  5.41567915e-01,  5.33943320e-01,  5.42887282e-01,\n",
       "        1.77498423e-01,  5.45891327e-01,  4.20971555e-01,  3.68321645e-01,\n",
       "        1.77329522e-01,  4.07840525e-02,  4.53918333e-01,  1.52191399e-01,\n",
       "        4.90397987e-01,  5.08753718e-01,  1.70504164e-01,  3.61181562e-01,\n",
       "        3.40558666e-01,  4.23229977e-01,  1.87689164e-01,  3.63039529e-02,\n",
       "        1.40435328e-02,  4.24777190e-03,  3.53610006e-01,  3.86211850e-01,\n",
       "        5.34875870e-01,  5.39326699e-01,  5.33789245e-01,  6.37234336e-02,\n",
       "        1.09022172e-01,  5.42322013e-01,  4.38830264e-02,  5.39692882e-01,\n",
       "        1.89598931e-01,  4.01763373e-02,  1.41469449e-01,  2.58280433e-01,\n",
       "        5.45001595e-01,  5.34867575e-01,  1.16686779e-01,  9.52687098e-02,\n",
       "        4.33539221e-01,  3.94238502e-01,  5.50810035e-01,  1.24082287e-01,\n",
       "       -1.07737957e-01,  4.12791847e-01,  5.46200040e-01,  2.16399706e-01,\n",
       "        2.35279061e-01,  1.44934509e-01,  7.37275106e-02,  4.72580634e-01,\n",
       "        5.50661665e-01,  5.03454567e-01,  2.20565321e-01,  2.23648977e-01,\n",
       "        1.27173368e-01,  9.36002361e-02,  2.22203085e-01,  2.57455381e-02,\n",
       "        4.70524786e-02,  1.87131204e-01,  5.23161710e-01, -1.58023437e-01,\n",
       "        3.28617831e-01,  1.85755838e-01,  3.55076667e-01,  4.98766063e-01,\n",
       "        3.04145028e-01,  5.04368855e-01,  2.99421881e-01, -1.28292018e-01,\n",
       "        5.21387898e-02,  5.48715137e-01,  1.01164469e-01,  5.42479905e-01,\n",
       "        2.38664494e-01,  5.05841434e-01,  1.66932763e-01,  4.19776854e-01,\n",
       "        2.45068885e-01,  3.68321645e-01,  3.68321645e-01,  5.33380060e-01,\n",
       "        9.99243902e-02,  1.04196565e-01,  5.49017508e-01,  5.20967466e-01,\n",
       "        1.53162164e-01,  1.66346384e-01,  1.12058690e-01,  5.10023695e-01,\n",
       "        5.27313181e-01,  1.94375087e-01,  4.49648887e-01,  3.59977059e-01,\n",
       "       -1.97787322e-02,  5.27380406e-01,  3.28023837e-01,  2.25936450e-01,\n",
       "        4.00654255e-01,  5.52723407e-01,  7.85748107e-03,  1.85783830e-01,\n",
       "        5.28650696e-01,  3.77505224e-01,  4.90889330e-01,  1.51781750e-01,\n",
       "        5.47498655e-01,  3.42825526e-01,  5.40576360e-01,  1.63980220e-01,\n",
       "        5.26625831e-01,  2.36830432e-01,  2.82634506e-02,  5.30334210e-01,\n",
       "        4.81478435e-01,  5.05680413e-01,  5.39483378e-01,  3.51357432e-01,\n",
       "       -1.17803876e-01,  5.38328005e-01, -3.02530619e-02,  3.29511863e-01,\n",
       "        5.49062796e-01,  4.63569676e-01,  5.42240819e-01,  2.02004690e-01,\n",
       "        5.18617803e-01,  5.47718199e-02,  2.74314112e-02,  2.95623652e-01,\n",
       "        5.50849788e-01,  4.37374022e-01,  5.34966817e-01,  1.83762250e-01,\n",
       "        2.04245856e-01,  1.57312437e-01,  5.49062796e-01,  3.75756467e-01,\n",
       "        1.02618379e-01,  1.43820468e-01,  5.50608318e-01,  2.86205407e-01,\n",
       "        2.73959452e-02,  5.26961236e-01,  5.18968547e-01,  1.13414135e-01,\n",
       "        3.31497017e-01, -1.00634904e-01, -2.54213916e-02,  2.20839445e-01,\n",
       "        5.32868882e-01,  5.12669055e-01,  3.27967051e-02,  5.34875870e-01,\n",
       "        2.86205407e-01,  1.51999397e-01,  5.48583330e-01,  4.45951225e-01,\n",
       "        2.93779367e-01,  2.17455248e-01,  5.15656715e-01, -3.21293684e-02,\n",
       "        5.41569238e-01,  2.63214515e-01,  3.26220687e-01,  1.85408315e-01,\n",
       "        2.13302215e-01,  5.45556970e-01,  2.46930320e-02,  4.65829072e-01,\n",
       "        1.82533174e-01,  4.90631563e-01,  4.58150712e-01,  1.58953336e-01,\n",
       "        5.38041086e-01,  2.37582852e-01,  4.22427637e-01,  1.75586024e-01,\n",
       "        5.33319203e-01,  5.52736469e-01,  5.34645596e-01,  1.66590841e-01,\n",
       "        5.50877524e-01,  5.48964409e-01,  4.28013230e-01, -4.28051543e-02,\n",
       "        5.40361947e-01,  3.77772222e-01, -3.14446298e-02,  4.87637892e-01,\n",
       "        5.38201237e-01,  4.33841809e-01,  1.05385110e-01,  4.98556497e-01,\n",
       "       -3.70267521e-03,  2.19778299e-01,  1.62453147e-01,  1.44292893e-01,\n",
       "        4.45952358e-01, -6.39575099e-02, -2.43358723e-02,  4.00458489e-01,\n",
       "        2.29004815e-01,  1.68056516e-01,  2.13829213e-01,  5.33319203e-01,\n",
       "        3.36823638e-01,  3.56986806e-01,  1.58850942e-01,  1.08661523e-01,\n",
       "        3.65044688e-01,  2.55817385e-01,  2.48043456e-01,  1.27104097e-01,\n",
       "        5.40790403e-01,  2.23666306e-01,  5.48580633e-01,  1.93531655e-01,\n",
       "       -5.32164100e-03,  3.61272085e-01,  2.24637206e-01,  5.22084405e-01,\n",
       "        5.39292283e-01,  5.46147140e-01,  5.52723407e-01,  2.11546383e-01,\n",
       "       -1.34452924e-01,  5.13961492e-01,  5.40634828e-01,  3.49517087e-01,\n",
       "        5.38654180e-01,  9.38475121e-02, -6.62607467e-03, -6.59771737e-02,\n",
       "        3.41829590e-01, -2.81910699e-03,  5.21022843e-01])"
      ]
     },
     "execution_count": 22,
     "metadata": {},
     "output_type": "execute_result"
    }
   ],
   "execution_count": 22
  },
  {
   "metadata": {
    "ExecuteTime": {
     "end_time": "2024-09-04T11:37:25.640992Z",
     "start_time": "2024-09-04T11:37:25.613590Z"
    }
   },
   "cell_type": "code",
   "source": "silhouette_score(X, clusters)",
   "id": "7cd02caab927a1fe",
   "outputs": [
    {
     "data": {
      "text/plain": [
       "np.float64(0.3084774888084638)"
      ]
     },
     "execution_count": 23,
     "metadata": {},
     "output_type": "execute_result"
    }
   ],
   "execution_count": 23
  },
  {
   "metadata": {},
   "cell_type": "markdown",
   "source": [
    "### Davies-Boulding score\n",
    "Metoda Davies-Boulding score wylicza średnie podobieństwo pomiędzy danym klastrem a najbardziej podobnym do niego innym klastrem. Podobieństwem, w tym wypadku, jest stosunek odległości wewnątrz klastra do odległości pomiędzy tymi klastrami."
   ],
   "id": "e224e3dbe33c731b"
  },
  {
   "metadata": {
    "ExecuteTime": {
     "end_time": "2024-09-04T11:45:07.123759Z",
     "start_time": "2024-09-04T11:45:07.118996Z"
    }
   },
   "cell_type": "code",
   "source": "from sklearn.metrics import davies_bouldin_score",
   "id": "6d1a238e787dada",
   "outputs": [],
   "execution_count": 24
  },
  {
   "metadata": {
    "ExecuteTime": {
     "end_time": "2024-09-04T11:45:43.059485Z",
     "start_time": "2024-09-04T11:45:43.050337Z"
    }
   },
   "cell_type": "code",
   "source": "davies_bouldin_score(X, clusters)",
   "id": "6a6c2ed4ba3aa38",
   "outputs": [
    {
     "data": {
      "text/plain": [
       "np.float64(1.764676965750701)"
      ]
     },
     "execution_count": 26,
     "metadata": {},
     "output_type": "execute_result"
    }
   ],
   "execution_count": 26
  },
  {
   "metadata": {},
   "cell_type": "code",
   "outputs": [],
   "execution_count": null,
   "source": "",
   "id": "cd3d83202e570baa"
  }
 ],
 "metadata": {
  "kernelspec": {
   "display_name": "Python 3",
   "language": "python",
   "name": "python3"
  },
  "language_info": {
   "codemirror_mode": {
    "name": "ipython",
    "version": 2
   },
   "file_extension": ".py",
   "mimetype": "text/x-python",
   "name": "python",
   "nbconvert_exporter": "python",
   "pygments_lexer": "ipython2",
   "version": "2.7.6"
  }
 },
 "nbformat": 4,
 "nbformat_minor": 5
}
