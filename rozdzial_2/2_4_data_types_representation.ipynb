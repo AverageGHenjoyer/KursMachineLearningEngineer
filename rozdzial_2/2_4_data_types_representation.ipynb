{
 "cells": [
  {
   "cell_type": "code",
   "id": "initial_id",
   "metadata": {
    "collapsed": true,
    "ExecuteTime": {
     "end_time": "2024-08-24T17:25:52.923411Z",
     "start_time": "2024-08-24T17:25:52.362765Z"
    }
   },
   "source": "import pandas as pd\n",
   "outputs": [],
   "execution_count": 1
  },
  {
   "metadata": {
    "ExecuteTime": {
     "end_time": "2024-08-24T17:26:13.083432Z",
     "start_time": "2024-08-24T17:26:13.078488Z"
    }
   },
   "cell_type": "code",
   "source": "cities = [\"Kraków\", \"Warszawa\", \"Poznań\", \"Wrocław\", \"Gdańsk\", \"Szczecin\"]",
   "id": "ba649673be211ffb",
   "outputs": [],
   "execution_count": 2
  },
  {
   "metadata": {
    "ExecuteTime": {
     "end_time": "2024-08-24T17:26:42.174500Z",
     "start_time": "2024-08-24T17:26:42.159801Z"
    }
   },
   "cell_type": "code",
   "source": [
    "connections_df = pd.DataFrame({\n",
    "    \"from\": cities,\n",
    "    \"to\": cities[::-1]\n",
    "})\n",
    "connections_df\n"
   ],
   "id": "22f3eeefd304c978",
   "outputs": [
    {
     "data": {
      "text/plain": [
       "       from        to\n",
       "0    Kraków  Szczecin\n",
       "1  Warszawa    Gdańsk\n",
       "2    Poznań   Wrocław\n",
       "3   Wrocław    Poznań\n",
       "4    Gdańsk  Warszawa\n",
       "5  Szczecin    Kraków"
      ],
      "text/html": [
       "<div>\n",
       "<style scoped>\n",
       "    .dataframe tbody tr th:only-of-type {\n",
       "        vertical-align: middle;\n",
       "    }\n",
       "\n",
       "    .dataframe tbody tr th {\n",
       "        vertical-align: top;\n",
       "    }\n",
       "\n",
       "    .dataframe thead th {\n",
       "        text-align: right;\n",
       "    }\n",
       "</style>\n",
       "<table border=\"1\" class=\"dataframe\">\n",
       "  <thead>\n",
       "    <tr style=\"text-align: right;\">\n",
       "      <th></th>\n",
       "      <th>from</th>\n",
       "      <th>to</th>\n",
       "    </tr>\n",
       "  </thead>\n",
       "  <tbody>\n",
       "    <tr>\n",
       "      <th>0</th>\n",
       "      <td>Kraków</td>\n",
       "      <td>Szczecin</td>\n",
       "    </tr>\n",
       "    <tr>\n",
       "      <th>1</th>\n",
       "      <td>Warszawa</td>\n",
       "      <td>Gdańsk</td>\n",
       "    </tr>\n",
       "    <tr>\n",
       "      <th>2</th>\n",
       "      <td>Poznań</td>\n",
       "      <td>Wrocław</td>\n",
       "    </tr>\n",
       "    <tr>\n",
       "      <th>3</th>\n",
       "      <td>Wrocław</td>\n",
       "      <td>Poznań</td>\n",
       "    </tr>\n",
       "    <tr>\n",
       "      <th>4</th>\n",
       "      <td>Gdańsk</td>\n",
       "      <td>Warszawa</td>\n",
       "    </tr>\n",
       "    <tr>\n",
       "      <th>5</th>\n",
       "      <td>Szczecin</td>\n",
       "      <td>Kraków</td>\n",
       "    </tr>\n",
       "  </tbody>\n",
       "</table>\n",
       "</div>"
      ]
     },
     "execution_count": 3,
     "metadata": {},
     "output_type": "execute_result"
    }
   ],
   "execution_count": 3
  },
  {
   "metadata": {},
   "cell_type": "markdown",
   "source": "### One-hot encoding",
   "id": "f13decc29ecc7a99"
  },
  {
   "metadata": {
    "ExecuteTime": {
     "end_time": "2024-08-24T17:27:19.728039Z",
     "start_time": "2024-08-24T17:27:19.712071Z"
    }
   },
   "cell_type": "code",
   "source": "pd.get_dummies(connections_df)",
   "id": "7f7c4c70d4367782",
   "outputs": [
    {
     "data": {
      "text/plain": [
       "   from_Gdańsk  from_Kraków  from_Poznań  from_Szczecin  from_Warszawa  \\\n",
       "0        False         True        False          False          False   \n",
       "1        False        False        False          False           True   \n",
       "2        False        False         True          False          False   \n",
       "3        False        False        False          False          False   \n",
       "4         True        False        False          False          False   \n",
       "5        False        False        False           True          False   \n",
       "\n",
       "   from_Wrocław  to_Gdańsk  to_Kraków  to_Poznań  to_Szczecin  to_Warszawa  \\\n",
       "0         False      False      False      False         True        False   \n",
       "1         False       True      False      False        False        False   \n",
       "2         False      False      False      False        False        False   \n",
       "3          True      False      False       True        False        False   \n",
       "4         False      False      False      False        False         True   \n",
       "5         False      False       True      False        False        False   \n",
       "\n",
       "   to_Wrocław  \n",
       "0       False  \n",
       "1       False  \n",
       "2        True  \n",
       "3       False  \n",
       "4       False  \n",
       "5       False  "
      ],
      "text/html": [
       "<div>\n",
       "<style scoped>\n",
       "    .dataframe tbody tr th:only-of-type {\n",
       "        vertical-align: middle;\n",
       "    }\n",
       "\n",
       "    .dataframe tbody tr th {\n",
       "        vertical-align: top;\n",
       "    }\n",
       "\n",
       "    .dataframe thead th {\n",
       "        text-align: right;\n",
       "    }\n",
       "</style>\n",
       "<table border=\"1\" class=\"dataframe\">\n",
       "  <thead>\n",
       "    <tr style=\"text-align: right;\">\n",
       "      <th></th>\n",
       "      <th>from_Gdańsk</th>\n",
       "      <th>from_Kraków</th>\n",
       "      <th>from_Poznań</th>\n",
       "      <th>from_Szczecin</th>\n",
       "      <th>from_Warszawa</th>\n",
       "      <th>from_Wrocław</th>\n",
       "      <th>to_Gdańsk</th>\n",
       "      <th>to_Kraków</th>\n",
       "      <th>to_Poznań</th>\n",
       "      <th>to_Szczecin</th>\n",
       "      <th>to_Warszawa</th>\n",
       "      <th>to_Wrocław</th>\n",
       "    </tr>\n",
       "  </thead>\n",
       "  <tbody>\n",
       "    <tr>\n",
       "      <th>0</th>\n",
       "      <td>False</td>\n",
       "      <td>True</td>\n",
       "      <td>False</td>\n",
       "      <td>False</td>\n",
       "      <td>False</td>\n",
       "      <td>False</td>\n",
       "      <td>False</td>\n",
       "      <td>False</td>\n",
       "      <td>False</td>\n",
       "      <td>True</td>\n",
       "      <td>False</td>\n",
       "      <td>False</td>\n",
       "    </tr>\n",
       "    <tr>\n",
       "      <th>1</th>\n",
       "      <td>False</td>\n",
       "      <td>False</td>\n",
       "      <td>False</td>\n",
       "      <td>False</td>\n",
       "      <td>True</td>\n",
       "      <td>False</td>\n",
       "      <td>True</td>\n",
       "      <td>False</td>\n",
       "      <td>False</td>\n",
       "      <td>False</td>\n",
       "      <td>False</td>\n",
       "      <td>False</td>\n",
       "    </tr>\n",
       "    <tr>\n",
       "      <th>2</th>\n",
       "      <td>False</td>\n",
       "      <td>False</td>\n",
       "      <td>True</td>\n",
       "      <td>False</td>\n",
       "      <td>False</td>\n",
       "      <td>False</td>\n",
       "      <td>False</td>\n",
       "      <td>False</td>\n",
       "      <td>False</td>\n",
       "      <td>False</td>\n",
       "      <td>False</td>\n",
       "      <td>True</td>\n",
       "    </tr>\n",
       "    <tr>\n",
       "      <th>3</th>\n",
       "      <td>False</td>\n",
       "      <td>False</td>\n",
       "      <td>False</td>\n",
       "      <td>False</td>\n",
       "      <td>False</td>\n",
       "      <td>True</td>\n",
       "      <td>False</td>\n",
       "      <td>False</td>\n",
       "      <td>True</td>\n",
       "      <td>False</td>\n",
       "      <td>False</td>\n",
       "      <td>False</td>\n",
       "    </tr>\n",
       "    <tr>\n",
       "      <th>4</th>\n",
       "      <td>True</td>\n",
       "      <td>False</td>\n",
       "      <td>False</td>\n",
       "      <td>False</td>\n",
       "      <td>False</td>\n",
       "      <td>False</td>\n",
       "      <td>False</td>\n",
       "      <td>False</td>\n",
       "      <td>False</td>\n",
       "      <td>False</td>\n",
       "      <td>True</td>\n",
       "      <td>False</td>\n",
       "    </tr>\n",
       "    <tr>\n",
       "      <th>5</th>\n",
       "      <td>False</td>\n",
       "      <td>False</td>\n",
       "      <td>False</td>\n",
       "      <td>True</td>\n",
       "      <td>False</td>\n",
       "      <td>False</td>\n",
       "      <td>False</td>\n",
       "      <td>True</td>\n",
       "      <td>False</td>\n",
       "      <td>False</td>\n",
       "      <td>False</td>\n",
       "      <td>False</td>\n",
       "    </tr>\n",
       "  </tbody>\n",
       "</table>\n",
       "</div>"
      ]
     },
     "execution_count": 4,
     "metadata": {},
     "output_type": "execute_result"
    }
   ],
   "execution_count": 4
  },
  {
   "metadata": {
    "ExecuteTime": {
     "end_time": "2024-08-24T17:30:48.834534Z",
     "start_time": "2024-08-24T17:30:48.825297Z"
    }
   },
   "cell_type": "code",
   "source": [
    "companies_df = pd.read_csv(\".\\\\data\\\\2_4_companies.csv\")\n",
    "companies_df"
   ],
   "id": "c0d7d5fb612b3890",
   "outputs": [
    {
     "data": {
      "text/plain": [
       "       company_name                                   company_address\n",
       "0         Digitdeck  Al. Marszałka Józefa Piłsudskiego 31 90-306 Łódź\n",
       "1      Scout Course               ul. Białobrzeska 50 02-371 Warszawa\n",
       "2  Discover Clothes            ul. Bytomska 65 41-605 Świętochłowice "
      ],
      "text/html": [
       "<div>\n",
       "<style scoped>\n",
       "    .dataframe tbody tr th:only-of-type {\n",
       "        vertical-align: middle;\n",
       "    }\n",
       "\n",
       "    .dataframe tbody tr th {\n",
       "        vertical-align: top;\n",
       "    }\n",
       "\n",
       "    .dataframe thead th {\n",
       "        text-align: right;\n",
       "    }\n",
       "</style>\n",
       "<table border=\"1\" class=\"dataframe\">\n",
       "  <thead>\n",
       "    <tr style=\"text-align: right;\">\n",
       "      <th></th>\n",
       "      <th>company_name</th>\n",
       "      <th>company_address</th>\n",
       "    </tr>\n",
       "  </thead>\n",
       "  <tbody>\n",
       "    <tr>\n",
       "      <th>0</th>\n",
       "      <td>Digitdeck</td>\n",
       "      <td>Al. Marszałka Józefa Piłsudskiego 31 90-306 Łódź</td>\n",
       "    </tr>\n",
       "    <tr>\n",
       "      <th>1</th>\n",
       "      <td>Scout Course</td>\n",
       "      <td>ul. Białobrzeska 50 02-371 Warszawa</td>\n",
       "    </tr>\n",
       "    <tr>\n",
       "      <th>2</th>\n",
       "      <td>Discover Clothes</td>\n",
       "      <td>ul. Bytomska 65 41-605 Świętochłowice</td>\n",
       "    </tr>\n",
       "  </tbody>\n",
       "</table>\n",
       "</div>"
      ]
     },
     "execution_count": 6,
     "metadata": {},
     "output_type": "execute_result"
    }
   ],
   "execution_count": 6
  },
  {
   "metadata": {
    "ExecuteTime": {
     "end_time": "2024-08-24T17:32:35.385510Z",
     "start_time": "2024-08-24T17:32:35.377442Z"
    }
   },
   "cell_type": "code",
   "source": "companies_df[\"company_address\"].str.extract(r\"([0-9]{2}\\-[0-9]{3})\")",
   "id": "2f6c35fe0c42e3ca",
   "outputs": [
    {
     "data": {
      "text/plain": [
       "        0\n",
       "0  90-306\n",
       "1  02-371\n",
       "2  41-605"
      ],
      "text/html": [
       "<div>\n",
       "<style scoped>\n",
       "    .dataframe tbody tr th:only-of-type {\n",
       "        vertical-align: middle;\n",
       "    }\n",
       "\n",
       "    .dataframe tbody tr th {\n",
       "        vertical-align: top;\n",
       "    }\n",
       "\n",
       "    .dataframe thead th {\n",
       "        text-align: right;\n",
       "    }\n",
       "</style>\n",
       "<table border=\"1\" class=\"dataframe\">\n",
       "  <thead>\n",
       "    <tr style=\"text-align: right;\">\n",
       "      <th></th>\n",
       "      <th>0</th>\n",
       "    </tr>\n",
       "  </thead>\n",
       "  <tbody>\n",
       "    <tr>\n",
       "      <th>0</th>\n",
       "      <td>90-306</td>\n",
       "    </tr>\n",
       "    <tr>\n",
       "      <th>1</th>\n",
       "      <td>02-371</td>\n",
       "    </tr>\n",
       "    <tr>\n",
       "      <th>2</th>\n",
       "      <td>41-605</td>\n",
       "    </tr>\n",
       "  </tbody>\n",
       "</table>\n",
       "</div>"
      ]
     },
     "execution_count": 7,
     "metadata": {},
     "output_type": "execute_result"
    }
   ],
   "execution_count": 7
  },
  {
   "metadata": {
    "ExecuteTime": {
     "end_time": "2024-08-24T17:34:17.381079Z",
     "start_time": "2024-08-24T17:34:17.375472Z"
    }
   },
   "cell_type": "code",
   "source": "cities_df = pd.read_csv(\".\\\\data\\\\2_4_cities.csv\")",
   "id": "9af5faf0aabb4513",
   "outputs": [],
   "execution_count": 8
  },
  {
   "metadata": {
    "ExecuteTime": {
     "end_time": "2024-08-24T17:34:21.658740Z",
     "start_time": "2024-08-24T17:34:21.651760Z"
    }
   },
   "cell_type": "code",
   "source": "cities_df",
   "id": "542dd5ce74ef3aed",
   "outputs": [
    {
     "data": {
      "text/plain": [
       "             city\n",
       "0          Lublin\n",
       "1        Warszawa\n",
       "2            Łódź\n",
       "3          Kraków\n",
       "4         Wrocław\n",
       "5  Świętochłowice\n",
       "6          Poznań\n",
       "7        Szczecin\n",
       "8          Gdańsk\n",
       "9         Rzeszów"
      ],
      "text/html": [
       "<div>\n",
       "<style scoped>\n",
       "    .dataframe tbody tr th:only-of-type {\n",
       "        vertical-align: middle;\n",
       "    }\n",
       "\n",
       "    .dataframe tbody tr th {\n",
       "        vertical-align: top;\n",
       "    }\n",
       "\n",
       "    .dataframe thead th {\n",
       "        text-align: right;\n",
       "    }\n",
       "</style>\n",
       "<table border=\"1\" class=\"dataframe\">\n",
       "  <thead>\n",
       "    <tr style=\"text-align: right;\">\n",
       "      <th></th>\n",
       "      <th>city</th>\n",
       "    </tr>\n",
       "  </thead>\n",
       "  <tbody>\n",
       "    <tr>\n",
       "      <th>0</th>\n",
       "      <td>Lublin</td>\n",
       "    </tr>\n",
       "    <tr>\n",
       "      <th>1</th>\n",
       "      <td>Warszawa</td>\n",
       "    </tr>\n",
       "    <tr>\n",
       "      <th>2</th>\n",
       "      <td>Łódź</td>\n",
       "    </tr>\n",
       "    <tr>\n",
       "      <th>3</th>\n",
       "      <td>Kraków</td>\n",
       "    </tr>\n",
       "    <tr>\n",
       "      <th>4</th>\n",
       "      <td>Wrocław</td>\n",
       "    </tr>\n",
       "    <tr>\n",
       "      <th>5</th>\n",
       "      <td>Świętochłowice</td>\n",
       "    </tr>\n",
       "    <tr>\n",
       "      <th>6</th>\n",
       "      <td>Poznań</td>\n",
       "    </tr>\n",
       "    <tr>\n",
       "      <th>7</th>\n",
       "      <td>Szczecin</td>\n",
       "    </tr>\n",
       "    <tr>\n",
       "      <th>8</th>\n",
       "      <td>Gdańsk</td>\n",
       "    </tr>\n",
       "    <tr>\n",
       "      <th>9</th>\n",
       "      <td>Rzeszów</td>\n",
       "    </tr>\n",
       "  </tbody>\n",
       "</table>\n",
       "</div>"
      ]
     },
     "execution_count": 9,
     "metadata": {},
     "output_type": "execute_result"
    }
   ],
   "execution_count": 9
  },
  {
   "metadata": {
    "ExecuteTime": {
     "end_time": "2024-08-24T17:35:48.699695Z",
     "start_time": "2024-08-24T17:35:48.695345Z"
    }
   },
   "cell_type": "code",
   "source": [
    "def find_matching_city(value):\n",
    "    value_lc = value.lower()\n",
    "    for city_name in cities_df[\"city\"]:\n",
    "        if city_name.lower() in value_lc:\n",
    "            return city_name\n",
    "    return None"
   ],
   "id": "e72e80a9de889d65",
   "outputs": [],
   "execution_count": 10
  },
  {
   "metadata": {
    "ExecuteTime": {
     "end_time": "2024-08-24T17:36:13.372971Z",
     "start_time": "2024-08-24T17:36:13.366547Z"
    }
   },
   "cell_type": "code",
   "source": "companies_df[\"company_address\"].map(find_matching_city)",
   "id": "dc6f2152ca77c355",
   "outputs": [
    {
     "data": {
      "text/plain": [
       "0              Łódź\n",
       "1          Warszawa\n",
       "2    Świętochłowice\n",
       "Name: company_address, dtype: object"
      ]
     },
     "execution_count": 11,
     "metadata": {},
     "output_type": "execute_result"
    }
   ],
   "execution_count": 11
  },
  {
   "metadata": {
    "ExecuteTime": {
     "end_time": "2024-08-24T17:38:55.300340Z",
     "start_time": "2024-08-24T17:38:55.289918Z"
    }
   },
   "cell_type": "code",
   "source": [
    "date_range = pd.date_range(\"2020-03-29\", periods=60, freq=\"D\")\n",
    "\n",
    "days_df = pd.DataFrame({\n",
    "    \"year\": date_range.year,\n",
    "    \"month\": date_range.month,\n",
    "    \"day\": date_range.day,\n",
    "    \"day_of_week\": date_range.dayofweek\n",
    "})\n",
    "days_df.head(7)"
   ],
   "id": "c94ed27dee369646",
   "outputs": [
    {
     "data": {
      "text/plain": [
       "   year  month  day  day_of_week\n",
       "0  2020      3   29            6\n",
       "1  2020      3   30            0\n",
       "2  2020      3   31            1\n",
       "3  2020      4    1            2\n",
       "4  2020      4    2            3\n",
       "5  2020      4    3            4\n",
       "6  2020      4    4            5"
      ],
      "text/html": [
       "<div>\n",
       "<style scoped>\n",
       "    .dataframe tbody tr th:only-of-type {\n",
       "        vertical-align: middle;\n",
       "    }\n",
       "\n",
       "    .dataframe tbody tr th {\n",
       "        vertical-align: top;\n",
       "    }\n",
       "\n",
       "    .dataframe thead th {\n",
       "        text-align: right;\n",
       "    }\n",
       "</style>\n",
       "<table border=\"1\" class=\"dataframe\">\n",
       "  <thead>\n",
       "    <tr style=\"text-align: right;\">\n",
       "      <th></th>\n",
       "      <th>year</th>\n",
       "      <th>month</th>\n",
       "      <th>day</th>\n",
       "      <th>day_of_week</th>\n",
       "    </tr>\n",
       "  </thead>\n",
       "  <tbody>\n",
       "    <tr>\n",
       "      <th>0</th>\n",
       "      <td>2020</td>\n",
       "      <td>3</td>\n",
       "      <td>29</td>\n",
       "      <td>6</td>\n",
       "    </tr>\n",
       "    <tr>\n",
       "      <th>1</th>\n",
       "      <td>2020</td>\n",
       "      <td>3</td>\n",
       "      <td>30</td>\n",
       "      <td>0</td>\n",
       "    </tr>\n",
       "    <tr>\n",
       "      <th>2</th>\n",
       "      <td>2020</td>\n",
       "      <td>3</td>\n",
       "      <td>31</td>\n",
       "      <td>1</td>\n",
       "    </tr>\n",
       "    <tr>\n",
       "      <th>3</th>\n",
       "      <td>2020</td>\n",
       "      <td>4</td>\n",
       "      <td>1</td>\n",
       "      <td>2</td>\n",
       "    </tr>\n",
       "    <tr>\n",
       "      <th>4</th>\n",
       "      <td>2020</td>\n",
       "      <td>4</td>\n",
       "      <td>2</td>\n",
       "      <td>3</td>\n",
       "    </tr>\n",
       "    <tr>\n",
       "      <th>5</th>\n",
       "      <td>2020</td>\n",
       "      <td>4</td>\n",
       "      <td>3</td>\n",
       "      <td>4</td>\n",
       "    </tr>\n",
       "    <tr>\n",
       "      <th>6</th>\n",
       "      <td>2020</td>\n",
       "      <td>4</td>\n",
       "      <td>4</td>\n",
       "      <td>5</td>\n",
       "    </tr>\n",
       "  </tbody>\n",
       "</table>\n",
       "</div>"
      ]
     },
     "execution_count": 12,
     "metadata": {},
     "output_type": "execute_result"
    }
   ],
   "execution_count": 12
  },
  {
   "metadata": {
    "ExecuteTime": {
     "end_time": "2024-08-24T17:41:05.512546Z",
     "start_time": "2024-08-24T17:41:05.508043Z"
    }
   },
   "cell_type": "code",
   "source": "import numpy as np",
   "id": "a5dfa302c8bbd3ae",
   "outputs": [],
   "execution_count": 13
  },
  {
   "metadata": {
    "ExecuteTime": {
     "end_time": "2024-08-24T17:41:22.737908Z",
     "start_time": "2024-08-24T17:41:22.731550Z"
    }
   },
   "cell_type": "code",
   "source": "date_range.view(np.int64)",
   "id": "31f85207f981e00c",
   "outputs": [
    {
     "data": {
      "text/plain": [
       "array([1585440000000000000, 1585526400000000000, 1585612800000000000,\n",
       "       1585699200000000000, 1585785600000000000, 1585872000000000000,\n",
       "       1585958400000000000, 1586044800000000000, 1586131200000000000,\n",
       "       1586217600000000000, 1586304000000000000, 1586390400000000000,\n",
       "       1586476800000000000, 1586563200000000000, 1586649600000000000,\n",
       "       1586736000000000000, 1586822400000000000, 1586908800000000000,\n",
       "       1586995200000000000, 1587081600000000000, 1587168000000000000,\n",
       "       1587254400000000000, 1587340800000000000, 1587427200000000000,\n",
       "       1587513600000000000, 1587600000000000000, 1587686400000000000,\n",
       "       1587772800000000000, 1587859200000000000, 1587945600000000000,\n",
       "       1588032000000000000, 1588118400000000000, 1588204800000000000,\n",
       "       1588291200000000000, 1588377600000000000, 1588464000000000000,\n",
       "       1588550400000000000, 1588636800000000000, 1588723200000000000,\n",
       "       1588809600000000000, 1588896000000000000, 1588982400000000000,\n",
       "       1589068800000000000, 1589155200000000000, 1589241600000000000,\n",
       "       1589328000000000000, 1589414400000000000, 1589500800000000000,\n",
       "       1589587200000000000, 1589673600000000000, 1589760000000000000,\n",
       "       1589846400000000000, 1589932800000000000, 1590019200000000000,\n",
       "       1590105600000000000, 1590192000000000000, 1590278400000000000,\n",
       "       1590364800000000000, 1590451200000000000, 1590537600000000000],\n",
       "      dtype=int64)"
      ]
     },
     "execution_count": 15,
     "metadata": {},
     "output_type": "execute_result"
    }
   ],
   "execution_count": 15
  },
  {
   "metadata": {
    "ExecuteTime": {
     "end_time": "2024-08-24T17:41:36.145498Z",
     "start_time": "2024-08-24T17:41:36.141034Z"
    }
   },
   "cell_type": "code",
   "source": "days_in_week = 7",
   "id": "55e2b74bba9ab7c3",
   "outputs": [],
   "execution_count": 16
  },
  {
   "metadata": {
    "ExecuteTime": {
     "end_time": "2024-08-24T17:42:57.255137Z",
     "start_time": "2024-08-24T17:42:57.243072Z"
    }
   },
   "cell_type": "code",
   "source": [
    "days_df.insert(loc=4, column=\"day_of_week_sin\",\n",
    "               value=np.sin(2*np.pi*days_df[\"day_of_week\"]/days_in_week))\n",
    "days_df.insert(loc=5,column=\"day_of_week_cos\",value=np.cos(2*np.pi*days_df[\"day_of_week\"]/days_in_week))\n",
    "days_df.head(7)"
   ],
   "id": "9470c32ca23b949f",
   "outputs": [
    {
     "data": {
      "text/plain": [
       "   year  month  day  day_of_week  day_of_week_sin  day_of_week_cos\n",
       "0  2020      3   29            6        -0.781831         0.623490\n",
       "1  2020      3   30            0         0.000000         1.000000\n",
       "2  2020      3   31            1         0.781831         0.623490\n",
       "3  2020      4    1            2         0.974928        -0.222521\n",
       "4  2020      4    2            3         0.433884        -0.900969\n",
       "5  2020      4    3            4        -0.433884        -0.900969\n",
       "6  2020      4    4            5        -0.974928        -0.222521"
      ],
      "text/html": [
       "<div>\n",
       "<style scoped>\n",
       "    .dataframe tbody tr th:only-of-type {\n",
       "        vertical-align: middle;\n",
       "    }\n",
       "\n",
       "    .dataframe tbody tr th {\n",
       "        vertical-align: top;\n",
       "    }\n",
       "\n",
       "    .dataframe thead th {\n",
       "        text-align: right;\n",
       "    }\n",
       "</style>\n",
       "<table border=\"1\" class=\"dataframe\">\n",
       "  <thead>\n",
       "    <tr style=\"text-align: right;\">\n",
       "      <th></th>\n",
       "      <th>year</th>\n",
       "      <th>month</th>\n",
       "      <th>day</th>\n",
       "      <th>day_of_week</th>\n",
       "      <th>day_of_week_sin</th>\n",
       "      <th>day_of_week_cos</th>\n",
       "    </tr>\n",
       "  </thead>\n",
       "  <tbody>\n",
       "    <tr>\n",
       "      <th>0</th>\n",
       "      <td>2020</td>\n",
       "      <td>3</td>\n",
       "      <td>29</td>\n",
       "      <td>6</td>\n",
       "      <td>-0.781831</td>\n",
       "      <td>0.623490</td>\n",
       "    </tr>\n",
       "    <tr>\n",
       "      <th>1</th>\n",
       "      <td>2020</td>\n",
       "      <td>3</td>\n",
       "      <td>30</td>\n",
       "      <td>0</td>\n",
       "      <td>0.000000</td>\n",
       "      <td>1.000000</td>\n",
       "    </tr>\n",
       "    <tr>\n",
       "      <th>2</th>\n",
       "      <td>2020</td>\n",
       "      <td>3</td>\n",
       "      <td>31</td>\n",
       "      <td>1</td>\n",
       "      <td>0.781831</td>\n",
       "      <td>0.623490</td>\n",
       "    </tr>\n",
       "    <tr>\n",
       "      <th>3</th>\n",
       "      <td>2020</td>\n",
       "      <td>4</td>\n",
       "      <td>1</td>\n",
       "      <td>2</td>\n",
       "      <td>0.974928</td>\n",
       "      <td>-0.222521</td>\n",
       "    </tr>\n",
       "    <tr>\n",
       "      <th>4</th>\n",
       "      <td>2020</td>\n",
       "      <td>4</td>\n",
       "      <td>2</td>\n",
       "      <td>3</td>\n",
       "      <td>0.433884</td>\n",
       "      <td>-0.900969</td>\n",
       "    </tr>\n",
       "    <tr>\n",
       "      <th>5</th>\n",
       "      <td>2020</td>\n",
       "      <td>4</td>\n",
       "      <td>3</td>\n",
       "      <td>4</td>\n",
       "      <td>-0.433884</td>\n",
       "      <td>-0.900969</td>\n",
       "    </tr>\n",
       "    <tr>\n",
       "      <th>6</th>\n",
       "      <td>2020</td>\n",
       "      <td>4</td>\n",
       "      <td>4</td>\n",
       "      <td>5</td>\n",
       "      <td>-0.974928</td>\n",
       "      <td>-0.222521</td>\n",
       "    </tr>\n",
       "  </tbody>\n",
       "</table>\n",
       "</div>"
      ]
     },
     "execution_count": 17,
     "metadata": {},
     "output_type": "execute_result"
    }
   ],
   "execution_count": 17
  },
  {
   "metadata": {
    "ExecuteTime": {
     "end_time": "2024-08-24T17:47:02.484451Z",
     "start_time": "2024-08-24T17:47:01.865301Z"
    }
   },
   "cell_type": "code",
   "source": "import  matplotlib.pyplot as plt",
   "id": "44c4a4a8b06c46ea",
   "outputs": [],
   "execution_count": 20
  },
  {
   "metadata": {
    "ExecuteTime": {
     "end_time": "2024-08-24T17:47:04.178977Z",
     "start_time": "2024-08-24T17:47:03.484427Z"
    }
   },
   "cell_type": "code",
   "source": "days_df[[\"day_of_week\", \"day_of_week_sin\", \"day_of_week_cos\"]].plot(figsize=(10.0, 7.0))",
   "id": "2dd814e3bfe5a1fb",
   "outputs": [
    {
     "data": {
      "text/plain": [
       "<Axes: >"
      ]
     },
     "execution_count": 21,
     "metadata": {},
     "output_type": "execute_result"
    },
    {
     "data": {
      "text/plain": [
       "<Figure size 1000x700 with 1 Axes>"
      ],
      "image/png": "[encoded data removed]"
     },
     "metadata": {},
     "output_type": "display_data"
    }
   ],
   "execution_count": 21
  },
  {
   "metadata": {
    "ExecuteTime": {
     "end_time": "2024-08-24T17:48:31.481120Z",
     "start_time": "2024-08-24T17:48:31.269622Z"
    }
   },
   "cell_type": "code",
   "source": "days_df.plot.scatter(\"day_of_week_sin\", \"day_of_week_cos\", figsize=(7.5, 7.5))",
   "id": "9213dc249adad9bd",
   "outputs": [
    {
     "data": {
      "text/plain": [
       "<Axes: xlabel='day_of_week_sin', ylabel='day_of_week_cos'>"
      ]
     },
     "execution_count": 22,
     "metadata": {},
     "output_type": "execute_result"
    },
    {
     "data": {
      "text/plain": [
       "<Figure size 750x750 with 1 Axes>"
      ],
      "image/png": "[encoded data removed]"
     },
     "metadata": {},
     "output_type": "display_data"
    }
   ],
   "execution_count": 22
  },
  {
   "metadata": {},
   "cell_type": "code",
   "outputs": [],
   "execution_count": null,
   "source": "",
   "id": "b1e17627d8f37a11"
  }
 ],
 "metadata": {
  "kernelspec": {
   "display_name": "Python 3",
   "language": "python",
   "name": "python3"
  },
  "language_info": {
   "codemirror_mode": {
    "name": "ipython",
    "version": 2
   },
   "file_extension": ".py",
   "mimetype": "text/x-python",
   "name": "python",
   "nbconvert_exporter": "python",
   "pygments_lexer": "ipython2",
   "version": "2.7.6"
  }
 },
 "nbformat": 4,
 "nbformat_minor": 5
}
