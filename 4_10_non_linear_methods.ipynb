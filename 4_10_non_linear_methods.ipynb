{
 "cells": [
  {
   "cell_type": "code",
   "id": "initial_id",
   "metadata": {
    "collapsed": true,
    "ExecuteTime": {
     "end_time": "2024-08-27T12:01:43.652464Z",
     "start_time": "2024-08-27T12:01:43.180867Z"
    }
   },
   "source": [
    "import pandas as pd\n",
    "import numpy as np"
   ],
   "outputs": [],
   "execution_count": 1
  },
  {
   "metadata": {
    "ExecuteTime": {
     "end_time": "2024-08-27T12:02:48.304109Z",
     "start_time": "2024-08-27T12:02:48.287896Z"
    }
   },
   "cell_type": "code",
   "source": [
    "np.random.seed(2020)\n",
    "x = np.linspace(0, 10, 12)\n",
    "xy_df = pd.DataFrame({\n",
    "    \"x\": x,\n",
    "    \"y\": x ** 2 - 7 * x + 2 * np.random.normal(size=12)\n",
    "})\n",
    "xy_df"
   ],
   "id": "f09b83a6f090386d",
   "outputs": [
    {
     "data": {
      "text/plain": [
       "            x          y\n",
       "0    0.000000  -3.537691\n",
       "1    0.909091  -5.386086\n",
       "2    1.818182 -11.682747\n",
       "3    2.727273 -12.955753\n",
       "4    3.636364 -14.017636\n",
       "5    4.545455 -13.705227\n",
       "6    5.454545  -8.552061\n",
       "7    6.363636  -3.920559\n",
       "8    7.272727   2.803697\n",
       "9    8.181818   8.523657\n",
       "10   9.090909  17.405597\n",
       "11  10.000000  32.624070"
      ],
      "text/html": [
       "<div>\n",
       "<style scoped>\n",
       "    .dataframe tbody tr th:only-of-type {\n",
       "        vertical-align: middle;\n",
       "    }\n",
       "\n",
       "    .dataframe tbody tr th {\n",
       "        vertical-align: top;\n",
       "    }\n",
       "\n",
       "    .dataframe thead th {\n",
       "        text-align: right;\n",
       "    }\n",
       "</style>\n",
       "<table border=\"1\" class=\"dataframe\">\n",
       "  <thead>\n",
       "    <tr style=\"text-align: right;\">\n",
       "      <th></th>\n",
       "      <th>x</th>\n",
       "      <th>y</th>\n",
       "    </tr>\n",
       "  </thead>\n",
       "  <tbody>\n",
       "    <tr>\n",
       "      <th>0</th>\n",
       "      <td>0.000000</td>\n",
       "      <td>-3.537691</td>\n",
       "    </tr>\n",
       "    <tr>\n",
       "      <th>1</th>\n",
       "      <td>0.909091</td>\n",
       "      <td>-5.386086</td>\n",
       "    </tr>\n",
       "    <tr>\n",
       "      <th>2</th>\n",
       "      <td>1.818182</td>\n",
       "      <td>-11.682747</td>\n",
       "    </tr>\n",
       "    <tr>\n",
       "      <th>3</th>\n",
       "      <td>2.727273</td>\n",
       "      <td>-12.955753</td>\n",
       "    </tr>\n",
       "    <tr>\n",
       "      <th>4</th>\n",
       "      <td>3.636364</td>\n",
       "      <td>-14.017636</td>\n",
       "    </tr>\n",
       "    <tr>\n",
       "      <th>5</th>\n",
       "      <td>4.545455</td>\n",
       "      <td>-13.705227</td>\n",
       "    </tr>\n",
       "    <tr>\n",
       "      <th>6</th>\n",
       "      <td>5.454545</td>\n",
       "      <td>-8.552061</td>\n",
       "    </tr>\n",
       "    <tr>\n",
       "      <th>7</th>\n",
       "      <td>6.363636</td>\n",
       "      <td>-3.920559</td>\n",
       "    </tr>\n",
       "    <tr>\n",
       "      <th>8</th>\n",
       "      <td>7.272727</td>\n",
       "      <td>2.803697</td>\n",
       "    </tr>\n",
       "    <tr>\n",
       "      <th>9</th>\n",
       "      <td>8.181818</td>\n",
       "      <td>8.523657</td>\n",
       "    </tr>\n",
       "    <tr>\n",
       "      <th>10</th>\n",
       "      <td>9.090909</td>\n",
       "      <td>17.405597</td>\n",
       "    </tr>\n",
       "    <tr>\n",
       "      <th>11</th>\n",
       "      <td>10.000000</td>\n",
       "      <td>32.624070</td>\n",
       "    </tr>\n",
       "  </tbody>\n",
       "</table>\n",
       "</div>"
      ]
     },
     "execution_count": 2,
     "metadata": {},
     "output_type": "execute_result"
    }
   ],
   "execution_count": 2
  },
  {
   "metadata": {
    "ExecuteTime": {
     "end_time": "2024-08-27T12:03:13.485539Z",
     "start_time": "2024-08-27T12:03:12.808330Z"
    }
   },
   "cell_type": "code",
   "source": "xy_df.plot.scatter(x=\"x\", y=\"y\", figsize=(10, 7.5))",
   "id": "6ee4e70e11745dff",
   "outputs": [
    {
     "data": {
      "text/plain": [
       "<Axes: xlabel='x', ylabel='y'>"
      ]
     },
     "execution_count": 3,
     "metadata": {},
     "output_type": "execute_result"
    },
    {
     "data": {
      "text/plain": [
       "<Figure size 1000x750 with 1 Axes>"
      ],
      "image/png": "[encoded data removed]"
     },
     "metadata": {},
     "output_type": "display_data"
    }
   ],
   "execution_count": 3
  },
  {
   "metadata": {},
   "cell_type": "code",
   "outputs": [],
   "execution_count": null,
   "source": "",
   "id": "c972c976928ea532"
  }
 ],
 "metadata": {
  "kernelspec": {
   "display_name": "Python 3",
   "language": "python",
   "name": "python3"
  },
  "language_info": {
   "codemirror_mode": {
    "name": "ipython",
    "version": 2
   },
   "file_extension": ".py",
   "mimetype": "text/x-python",
   "name": "python",
   "nbconvert_exporter": "python",
   "pygments_lexer": "ipython2",
   "version": "2.7.6"
  }
 },
 "nbformat": 4,
 "nbformat_minor": 5
}
