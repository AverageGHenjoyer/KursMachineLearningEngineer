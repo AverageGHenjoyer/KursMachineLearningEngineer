{
 "cells": [
  {
   "cell_type": "code",
   "id": "initial_id",
   "metadata": {
    "collapsed": true,
    "ExecuteTime": {
     "end_time": "2024-08-25T11:22:36.510784Z",
     "start_time": "2024-08-25T11:22:35.946870Z"
    }
   },
   "source": "import pandas as pd",
   "outputs": [],
   "execution_count": 1
  },
  {
   "metadata": {
    "ExecuteTime": {
     "end_time": "2024-08-25T11:23:34.252975Z",
     "start_time": "2024-08-25T11:23:34.240652Z"
    }
   },
   "cell_type": "code",
   "source": [
    "pd.read_csv(\"./data/2_6_orders.csv\", index_col=0,\n",
    "            parse_dates=[\"datetime\"]) \\\n",
    "            .info()"
   ],
   "id": "7e3f85964891f14d",
   "outputs": [
    {
     "name": "stdout",
     "output_type": "stream",
     "text": [
      "<class 'pandas.core.frame.DataFrame'>\n",
      "Index: 10 entries, 0 to 9\n",
      "Data columns (total 3 columns):\n",
      " #   Column       Non-Null Count  Dtype         \n",
      "---  ------       --------------  -----         \n",
      " 0   customer_id  10 non-null     int64         \n",
      " 1   item_id      10 non-null     object        \n",
      " 2   datetime     10 non-null     datetime64[ns]\n",
      "dtypes: datetime64[ns](1), int64(1), object(1)\n",
      "memory usage: 320.0+ bytes\n"
     ]
    }
   ],
   "execution_count": 4
  },
  {
   "metadata": {
    "ExecuteTime": {
     "end_time": "2024-08-25T11:25:31.432409Z",
     "start_time": "2024-08-25T11:25:31.420135Z"
    }
   },
   "cell_type": "code",
   "source": [
    "pd.read_csv(\"./data/2_6_orders.csv\", index_col=0,\n",
    "            parse_dates=[\"datetime\"]) \\\n",
    "            .astype({\"customer_id\": \"int16\"}) \\\n",
    "            .info()"
   ],
   "id": "89c8059bffe2fc83",
   "outputs": [
    {
     "name": "stdout",
     "output_type": "stream",
     "text": [
      "<class 'pandas.core.frame.DataFrame'>\n",
      "Index: 10 entries, 0 to 9\n",
      "Data columns (total 3 columns):\n",
      " #   Column       Non-Null Count  Dtype         \n",
      "---  ------       --------------  -----         \n",
      " 0   customer_id  10 non-null     int16         \n",
      " 1   item_id      10 non-null     object        \n",
      " 2   datetime     10 non-null     datetime64[ns]\n",
      "dtypes: datetime64[ns](1), int16(1), object(1)\n",
      "memory usage: 260.0+ bytes\n"
     ]
    }
   ],
   "execution_count": 5
  },
  {
   "metadata": {
    "ExecuteTime": {
     "end_time": "2024-08-25T11:38:32.054829Z",
     "start_time": "2024-08-25T11:38:31.928153Z"
    }
   },
   "cell_type": "code",
   "source": [
    "pd.read_csv(\"./data/2_6_orders.csv\", index_col=0,\n",
    "            parse_dates=[\"datetime\"], \n",
    "            dtype={\"customer_id\": \"int16\"}) \\\n",
    "            .to_parquet(\"./data/2_8_orders.parquet\")"
   ],
   "id": "ac6474e409149225",
   "outputs": [],
   "execution_count": 8
  },
  {
   "metadata": {
    "ExecuteTime": {
     "end_time": "2024-08-25T11:39:08.492897Z",
     "start_time": "2024-08-25T11:39:08.406256Z"
    }
   },
   "cell_type": "code",
   "source": [
    "pd.read_parquet(\"./data/2_8_orders.parquet\") \\\n",
    "                .info()"
   ],
   "id": "2366b4a916664629",
   "outputs": [
    {
     "name": "stdout",
     "output_type": "stream",
     "text": [
      "<class 'pandas.core.frame.DataFrame'>\n",
      "Index: 10 entries, 0 to 9\n",
      "Data columns (total 3 columns):\n",
      " #   Column       Non-Null Count  Dtype         \n",
      "---  ------       --------------  -----         \n",
      " 0   customer_id  10 non-null     int16         \n",
      " 1   item_id      10 non-null     object        \n",
      " 2   datetime     10 non-null     datetime64[ns]\n",
      "dtypes: datetime64[ns](1), int16(1), object(1)\n",
      "memory usage: 260.0+ bytes\n"
     ]
    }
   ],
   "execution_count": 9
  },
  {
   "metadata": {
    "ExecuteTime": {
     "end_time": "2024-08-25T11:40:02.312390Z",
     "start_time": "2024-08-25T11:40:02.294114Z"
    }
   },
   "cell_type": "code",
   "source": [
    "orders_df = pd.read_parquet(\"./data/2_8_orders.parquet\")\n",
    "orders_df"
   ],
   "id": "1e97c2ada82fee22",
   "outputs": [
    {
     "data": {
      "text/plain": [
       "   customer_id item_id            datetime\n",
       "0          485  ITEM-1 2019-07-14 16:00:00\n",
       "1          769  ITEM-1 2019-03-25 07:00:00\n",
       "2          769  ITEM-3 2019-04-10 07:00:00\n",
       "3          485  ITEM-1 2019-04-11 01:00:00\n",
       "4          769  ITEM-2 2019-06-03 14:00:00\n",
       "5          485  ITEM-3 2019-06-14 18:00:00\n",
       "6          769  ITEM-3 2019-04-08 00:00:00\n",
       "7          769  ITEM-2 2018-04-17 03:00:00\n",
       "8          769  ITEM-2 2018-07-02 19:00:00\n",
       "9          213  ITEM-1 2019-05-23 11:00:00"
      ],
      "text/html": [
       "<div>\n",
       "<style scoped>\n",
       "    .dataframe tbody tr th:only-of-type {\n",
       "        vertical-align: middle;\n",
       "    }\n",
       "\n",
       "    .dataframe tbody tr th {\n",
       "        vertical-align: top;\n",
       "    }\n",
       "\n",
       "    .dataframe thead th {\n",
       "        text-align: right;\n",
       "    }\n",
       "</style>\n",
       "<table border=\"1\" class=\"dataframe\">\n",
       "  <thead>\n",
       "    <tr style=\"text-align: right;\">\n",
       "      <th></th>\n",
       "      <th>customer_id</th>\n",
       "      <th>item_id</th>\n",
       "      <th>datetime</th>\n",
       "    </tr>\n",
       "  </thead>\n",
       "  <tbody>\n",
       "    <tr>\n",
       "      <th>0</th>\n",
       "      <td>485</td>\n",
       "      <td>ITEM-1</td>\n",
       "      <td>2019-07-14 16:00:00</td>\n",
       "    </tr>\n",
       "    <tr>\n",
       "      <th>1</th>\n",
       "      <td>769</td>\n",
       "      <td>ITEM-1</td>\n",
       "      <td>2019-03-25 07:00:00</td>\n",
       "    </tr>\n",
       "    <tr>\n",
       "      <th>2</th>\n",
       "      <td>769</td>\n",
       "      <td>ITEM-3</td>\n",
       "      <td>2019-04-10 07:00:00</td>\n",
       "    </tr>\n",
       "    <tr>\n",
       "      <th>3</th>\n",
       "      <td>485</td>\n",
       "      <td>ITEM-1</td>\n",
       "      <td>2019-04-11 01:00:00</td>\n",
       "    </tr>\n",
       "    <tr>\n",
       "      <th>4</th>\n",
       "      <td>769</td>\n",
       "      <td>ITEM-2</td>\n",
       "      <td>2019-06-03 14:00:00</td>\n",
       "    </tr>\n",
       "    <tr>\n",
       "      <th>5</th>\n",
       "      <td>485</td>\n",
       "      <td>ITEM-3</td>\n",
       "      <td>2019-06-14 18:00:00</td>\n",
       "    </tr>\n",
       "    <tr>\n",
       "      <th>6</th>\n",
       "      <td>769</td>\n",
       "      <td>ITEM-3</td>\n",
       "      <td>2019-04-08 00:00:00</td>\n",
       "    </tr>\n",
       "    <tr>\n",
       "      <th>7</th>\n",
       "      <td>769</td>\n",
       "      <td>ITEM-2</td>\n",
       "      <td>2018-04-17 03:00:00</td>\n",
       "    </tr>\n",
       "    <tr>\n",
       "      <th>8</th>\n",
       "      <td>769</td>\n",
       "      <td>ITEM-2</td>\n",
       "      <td>2018-07-02 19:00:00</td>\n",
       "    </tr>\n",
       "    <tr>\n",
       "      <th>9</th>\n",
       "      <td>213</td>\n",
       "      <td>ITEM-1</td>\n",
       "      <td>2019-05-23 11:00:00</td>\n",
       "    </tr>\n",
       "  </tbody>\n",
       "</table>\n",
       "</div>"
      ]
     },
     "execution_count": 10,
     "metadata": {},
     "output_type": "execute_result"
    }
   ],
   "execution_count": 10
  },
  {
   "metadata": {
    "ExecuteTime": {
     "end_time": "2024-08-25T11:41:04.528528Z",
     "start_time": "2024-08-25T11:41:04.519355Z"
    }
   },
   "cell_type": "code",
   "source": [
    "orders_df.rename(columns={\"datetime\": \"order_datetime\"},\n",
    "                 inplace=True)\n",
    "orders_df"
   ],
   "id": "fbe4494f858a9ea9",
   "outputs": [
    {
     "data": {
      "text/plain": [
       "   customer_id item_id      order_datetime\n",
       "0          485  ITEM-1 2019-07-14 16:00:00\n",
       "1          769  ITEM-1 2019-03-25 07:00:00\n",
       "2          769  ITEM-3 2019-04-10 07:00:00\n",
       "3          485  ITEM-1 2019-04-11 01:00:00\n",
       "4          769  ITEM-2 2019-06-03 14:00:00\n",
       "5          485  ITEM-3 2019-06-14 18:00:00\n",
       "6          769  ITEM-3 2019-04-08 00:00:00\n",
       "7          769  ITEM-2 2018-04-17 03:00:00\n",
       "8          769  ITEM-2 2018-07-02 19:00:00\n",
       "9          213  ITEM-1 2019-05-23 11:00:00"
      ],
      "text/html": [
       "<div>\n",
       "<style scoped>\n",
       "    .dataframe tbody tr th:only-of-type {\n",
       "        vertical-align: middle;\n",
       "    }\n",
       "\n",
       "    .dataframe tbody tr th {\n",
       "        vertical-align: top;\n",
       "    }\n",
       "\n",
       "    .dataframe thead th {\n",
       "        text-align: right;\n",
       "    }\n",
       "</style>\n",
       "<table border=\"1\" class=\"dataframe\">\n",
       "  <thead>\n",
       "    <tr style=\"text-align: right;\">\n",
       "      <th></th>\n",
       "      <th>customer_id</th>\n",
       "      <th>item_id</th>\n",
       "      <th>order_datetime</th>\n",
       "    </tr>\n",
       "  </thead>\n",
       "  <tbody>\n",
       "    <tr>\n",
       "      <th>0</th>\n",
       "      <td>485</td>\n",
       "      <td>ITEM-1</td>\n",
       "      <td>2019-07-14 16:00:00</td>\n",
       "    </tr>\n",
       "    <tr>\n",
       "      <th>1</th>\n",
       "      <td>769</td>\n",
       "      <td>ITEM-1</td>\n",
       "      <td>2019-03-25 07:00:00</td>\n",
       "    </tr>\n",
       "    <tr>\n",
       "      <th>2</th>\n",
       "      <td>769</td>\n",
       "      <td>ITEM-3</td>\n",
       "      <td>2019-04-10 07:00:00</td>\n",
       "    </tr>\n",
       "    <tr>\n",
       "      <th>3</th>\n",
       "      <td>485</td>\n",
       "      <td>ITEM-1</td>\n",
       "      <td>2019-04-11 01:00:00</td>\n",
       "    </tr>\n",
       "    <tr>\n",
       "      <th>4</th>\n",
       "      <td>769</td>\n",
       "      <td>ITEM-2</td>\n",
       "      <td>2019-06-03 14:00:00</td>\n",
       "    </tr>\n",
       "    <tr>\n",
       "      <th>5</th>\n",
       "      <td>485</td>\n",
       "      <td>ITEM-3</td>\n",
       "      <td>2019-06-14 18:00:00</td>\n",
       "    </tr>\n",
       "    <tr>\n",
       "      <th>6</th>\n",
       "      <td>769</td>\n",
       "      <td>ITEM-3</td>\n",
       "      <td>2019-04-08 00:00:00</td>\n",
       "    </tr>\n",
       "    <tr>\n",
       "      <th>7</th>\n",
       "      <td>769</td>\n",
       "      <td>ITEM-2</td>\n",
       "      <td>2018-04-17 03:00:00</td>\n",
       "    </tr>\n",
       "    <tr>\n",
       "      <th>8</th>\n",
       "      <td>769</td>\n",
       "      <td>ITEM-2</td>\n",
       "      <td>2018-07-02 19:00:00</td>\n",
       "    </tr>\n",
       "    <tr>\n",
       "      <th>9</th>\n",
       "      <td>213</td>\n",
       "      <td>ITEM-1</td>\n",
       "      <td>2019-05-23 11:00:00</td>\n",
       "    </tr>\n",
       "  </tbody>\n",
       "</table>\n",
       "</div>"
      ]
     },
     "execution_count": 11,
     "metadata": {},
     "output_type": "execute_result"
    }
   ],
   "execution_count": 11
  },
  {
   "metadata": {
    "ExecuteTime": {
     "end_time": "2024-08-25T11:43:32.675700Z",
     "start_time": "2024-08-25T11:43:32.661854Z"
    }
   },
   "cell_type": "code",
   "source": [
    "pd.read_parquet(\"./data/2_8_orders.parquet\") \\\n",
    "    .filter([\"datetime\"], axis=\"columns\") \\\n",
    "    .agg([\"min\", \"max\"])"
   ],
   "id": "461d32e42cb41606",
   "outputs": [
    {
     "data": {
      "text/plain": [
       "               datetime\n",
       "min 2018-04-17 03:00:00\n",
       "max 2019-07-14 16:00:00"
      ],
      "text/html": [
       "<div>\n",
       "<style scoped>\n",
       "    .dataframe tbody tr th:only-of-type {\n",
       "        vertical-align: middle;\n",
       "    }\n",
       "\n",
       "    .dataframe tbody tr th {\n",
       "        vertical-align: top;\n",
       "    }\n",
       "\n",
       "    .dataframe thead th {\n",
       "        text-align: right;\n",
       "    }\n",
       "</style>\n",
       "<table border=\"1\" class=\"dataframe\">\n",
       "  <thead>\n",
       "    <tr style=\"text-align: right;\">\n",
       "      <th></th>\n",
       "      <th>datetime</th>\n",
       "    </tr>\n",
       "  </thead>\n",
       "  <tbody>\n",
       "    <tr>\n",
       "      <th>min</th>\n",
       "      <td>2018-04-17 03:00:00</td>\n",
       "    </tr>\n",
       "    <tr>\n",
       "      <th>max</th>\n",
       "      <td>2019-07-14 16:00:00</td>\n",
       "    </tr>\n",
       "  </tbody>\n",
       "</table>\n",
       "</div>"
      ]
     },
     "execution_count": 13,
     "metadata": {},
     "output_type": "execute_result"
    }
   ],
   "execution_count": 13
  },
  {
   "metadata": {},
   "cell_type": "code",
   "outputs": [],
   "execution_count": null,
   "source": "",
   "id": "4a48f6f882a02f97"
  }
 ],
 "metadata": {
  "kernelspec": {
   "display_name": "Python 3",
   "language": "python",
   "name": "python3"
  },
  "language_info": {
   "codemirror_mode": {
    "name": "ipython",
    "version": 2
   },
   "file_extension": ".py",
   "mimetype": "text/x-python",
   "name": "python",
   "nbconvert_exporter": "python",
   "pygments_lexer": "ipython2",
   "version": "2.7.6"
  }
 },
 "nbformat": 4,
 "nbformat_minor": 5
}
