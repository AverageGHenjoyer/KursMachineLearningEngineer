{
 "cells": [
  {
   "cell_type": "code",
   "id": "initial_id",
   "metadata": {
    "collapsed": true,
    "ExecuteTime": {
     "end_time": "2024-08-25T11:13:55.619022Z",
     "start_time": "2024-08-25T11:13:54.914750Z"
    }
   },
   "source": "import pandas as pd",
   "outputs": [],
   "execution_count": 1
  },
  {
   "metadata": {
    "ExecuteTime": {
     "end_time": "2024-08-25T11:14:03.106148Z",
     "start_time": "2024-08-25T11:14:03.100643Z"
    }
   },
   "cell_type": "code",
   "source": "easter_date = \"2020-04-12\"",
   "id": "1c13497af735a08",
   "outputs": [],
   "execution_count": 2
  },
  {
   "metadata": {
    "ExecuteTime": {
     "end_time": "2024-08-25T11:14:26.136758Z",
     "start_time": "2024-08-25T11:14:26.123775Z"
    }
   },
   "cell_type": "code",
   "source": [
    "days = pd.date_range(\"2020-03-03\", periods=10, freq=\"10D\")\n",
    "days"
   ],
   "id": "adb723c70b707840",
   "outputs": [
    {
     "data": {
      "text/plain": [
       "DatetimeIndex(['2020-03-03', '2020-03-13', '2020-03-23', '2020-04-02',\n",
       "               '2020-04-12', '2020-04-22', '2020-05-02', '2020-05-12',\n",
       "               '2020-05-22', '2020-06-01'],\n",
       "              dtype='datetime64[ns]', freq='10D')"
      ]
     },
     "execution_count": 3,
     "metadata": {},
     "output_type": "execute_result"
    }
   ],
   "execution_count": 3
  },
  {
   "metadata": {
    "ExecuteTime": {
     "end_time": "2024-08-25T11:15:56.223780Z",
     "start_time": "2024-08-25T11:15:56.214328Z"
    }
   },
   "cell_type": "code",
   "source": "pd.to_datetime(easter_date) - days",
   "id": "61d6d9a476f5e333",
   "outputs": [
    {
     "data": {
      "text/plain": [
       "TimedeltaIndex([ '40 days',  '30 days',  '20 days',  '10 days',   '0 days',\n",
       "                '-10 days', '-20 days', '-30 days', '-40 days', '-50 days'],\n",
       "               dtype='timedelta64[ns]', freq='-10D')"
      ]
     },
     "execution_count": 4,
     "metadata": {},
     "output_type": "execute_result"
    }
   ],
   "execution_count": 4
  },
  {
   "metadata": {
    "ExecuteTime": {
     "end_time": "2024-08-25T11:16:07.477750Z",
     "start_time": "2024-08-25T11:16:07.471510Z"
    }
   },
   "cell_type": "code",
   "source": "pd.to_datetime(easter_date) == days",
   "id": "6a302954a329216b",
   "outputs": [
    {
     "data": {
      "text/plain": [
       "array([False, False, False, False,  True, False, False, False, False,\n",
       "       False])"
      ]
     },
     "execution_count": 5,
     "metadata": {},
     "output_type": "execute_result"
    }
   ],
   "execution_count": 5
  },
  {
   "metadata": {},
   "cell_type": "code",
   "outputs": [],
   "execution_count": null,
   "source": "",
   "id": "63ffad65cae8137e"
  }
 ],
 "metadata": {
  "kernelspec": {
   "display_name": "Python 3",
   "language": "python",
   "name": "python3"
  },
  "language_info": {
   "codemirror_mode": {
    "name": "ipython",
    "version": 2
   },
   "file_extension": ".py",
   "mimetype": "text/x-python",
   "name": "python",
   "nbconvert_exporter": "python",
   "pygments_lexer": "ipython2",
   "version": "2.7.6"
  }
 },
 "nbformat": 4,
 "nbformat_minor": 5
}
