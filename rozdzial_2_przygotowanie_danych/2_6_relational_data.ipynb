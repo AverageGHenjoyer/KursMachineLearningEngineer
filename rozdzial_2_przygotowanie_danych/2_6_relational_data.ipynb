{
 "cells": [
  {
   "cell_type": "code",
   "id": "initial_id",
   "metadata": {
    "collapsed": true,
    "ExecuteTime": {
     "end_time": "2024-08-25T10:43:18.588044Z",
     "start_time": "2024-08-25T10:43:17.664297Z"
    }
   },
   "source": "import pandas as pd",
   "outputs": [],
   "execution_count": 1
  },
  {
   "metadata": {
    "ExecuteTime": {
     "end_time": "2024-08-25T10:43:57.261369Z",
     "start_time": "2024-08-25T10:43:57.232196Z"
    }
   },
   "cell_type": "code",
   "source": [
    "customers_df = pd.read_csv('.\\\\data\\\\2_6_customers.csv', index_col=0)\n",
    "customers_df"
   ],
   "id": "7e179c78a142b6f3",
   "outputs": [
    {
     "data": {
      "text/plain": [
       "   customer_id     name     surname\n",
       "0          213    Luiza     Walczak\n",
       "1          485   Blanka  Kalinowska\n",
       "2          769  Jaromir    Majewski\n",
       "3          304    Józef   Olszewski"
      ],
      "text/html": [
       "<div>\n",
       "<style scoped>\n",
       "    .dataframe tbody tr th:only-of-type {\n",
       "        vertical-align: middle;\n",
       "    }\n",
       "\n",
       "    .dataframe tbody tr th {\n",
       "        vertical-align: top;\n",
       "    }\n",
       "\n",
       "    .dataframe thead th {\n",
       "        text-align: right;\n",
       "    }\n",
       "</style>\n",
       "<table border=\"1\" class=\"dataframe\">\n",
       "  <thead>\n",
       "    <tr style=\"text-align: right;\">\n",
       "      <th></th>\n",
       "      <th>customer_id</th>\n",
       "      <th>name</th>\n",
       "      <th>surname</th>\n",
       "    </tr>\n",
       "  </thead>\n",
       "  <tbody>\n",
       "    <tr>\n",
       "      <th>0</th>\n",
       "      <td>213</td>\n",
       "      <td>Luiza</td>\n",
       "      <td>Walczak</td>\n",
       "    </tr>\n",
       "    <tr>\n",
       "      <th>1</th>\n",
       "      <td>485</td>\n",
       "      <td>Blanka</td>\n",
       "      <td>Kalinowska</td>\n",
       "    </tr>\n",
       "    <tr>\n",
       "      <th>2</th>\n",
       "      <td>769</td>\n",
       "      <td>Jaromir</td>\n",
       "      <td>Majewski</td>\n",
       "    </tr>\n",
       "    <tr>\n",
       "      <th>3</th>\n",
       "      <td>304</td>\n",
       "      <td>Józef</td>\n",
       "      <td>Olszewski</td>\n",
       "    </tr>\n",
       "  </tbody>\n",
       "</table>\n",
       "</div>"
      ]
     },
     "execution_count": 2,
     "metadata": {},
     "output_type": "execute_result"
    }
   ],
   "execution_count": 2
  },
  {
   "metadata": {
    "ExecuteTime": {
     "end_time": "2024-08-25T10:44:19.065046Z",
     "start_time": "2024-08-25T10:44:19.054087Z"
    }
   },
   "cell_type": "code",
   "source": [
    "items_df = pd.read_csv(\".\\\\data\\\\2_6_items.csv\", index_col=0)\n",
    "items_df"
   ],
   "id": "af7ab4b66f98d7b2",
   "outputs": [
    {
     "data": {
      "text/plain": [
       "  item_id            name  price\n",
       "0  ITEM-1     Elite Melon  10.59\n",
       "1  ITEM-2  Wild Pineapple   5.79\n",
       "2  ITEM-3      Beast Pear   2.99"
      ],
      "text/html": [
       "<div>\n",
       "<style scoped>\n",
       "    .dataframe tbody tr th:only-of-type {\n",
       "        vertical-align: middle;\n",
       "    }\n",
       "\n",
       "    .dataframe tbody tr th {\n",
       "        vertical-align: top;\n",
       "    }\n",
       "\n",
       "    .dataframe thead th {\n",
       "        text-align: right;\n",
       "    }\n",
       "</style>\n",
       "<table border=\"1\" class=\"dataframe\">\n",
       "  <thead>\n",
       "    <tr style=\"text-align: right;\">\n",
       "      <th></th>\n",
       "      <th>item_id</th>\n",
       "      <th>name</th>\n",
       "      <th>price</th>\n",
       "    </tr>\n",
       "  </thead>\n",
       "  <tbody>\n",
       "    <tr>\n",
       "      <th>0</th>\n",
       "      <td>ITEM-1</td>\n",
       "      <td>Elite Melon</td>\n",
       "      <td>10.59</td>\n",
       "    </tr>\n",
       "    <tr>\n",
       "      <th>1</th>\n",
       "      <td>ITEM-2</td>\n",
       "      <td>Wild Pineapple</td>\n",
       "      <td>5.79</td>\n",
       "    </tr>\n",
       "    <tr>\n",
       "      <th>2</th>\n",
       "      <td>ITEM-3</td>\n",
       "      <td>Beast Pear</td>\n",
       "      <td>2.99</td>\n",
       "    </tr>\n",
       "  </tbody>\n",
       "</table>\n",
       "</div>"
      ]
     },
     "execution_count": 3,
     "metadata": {},
     "output_type": "execute_result"
    }
   ],
   "execution_count": 3
  },
  {
   "metadata": {
    "ExecuteTime": {
     "end_time": "2024-08-25T10:46:10.966508Z",
     "start_time": "2024-08-25T10:46:10.960631Z"
    }
   },
   "cell_type": "code",
   "source": "orders_df = pd.read_csv(\".\\\\data\\\\2_6_orders.csv\", index_col=0)",
   "id": "128364cd2847a499",
   "outputs": [],
   "execution_count": 4
  },
  {
   "metadata": {
    "ExecuteTime": {
     "end_time": "2024-08-25T10:46:22.372463Z",
     "start_time": "2024-08-25T10:46:22.362456Z"
    }
   },
   "cell_type": "code",
   "source": "orders_df",
   "id": "9485975e70e708ca",
   "outputs": [
    {
     "data": {
      "text/plain": [
       "   customer_id item_id             datetime\n",
       "0          485  ITEM-1  2019-07-14 16:00:00\n",
       "1          769  ITEM-1  2019-03-25 07:00:00\n",
       "2          769  ITEM-3  2019-04-10 07:00:00\n",
       "3          485  ITEM-1  2019-04-11 01:00:00\n",
       "4          769  ITEM-2  2019-06-03 14:00:00\n",
       "5          485  ITEM-3  2019-06-14 18:00:00\n",
       "6          769  ITEM-3  2019-04-08 00:00:00\n",
       "7          769  ITEM-2  2018-04-17 03:00:00\n",
       "8          769  ITEM-2  2018-07-02 19:00:00\n",
       "9          213  ITEM-1  2019-05-23 11:00:00"
      ],
      "text/html": [
       "<div>\n",
       "<style scoped>\n",
       "    .dataframe tbody tr th:only-of-type {\n",
       "        vertical-align: middle;\n",
       "    }\n",
       "\n",
       "    .dataframe tbody tr th {\n",
       "        vertical-align: top;\n",
       "    }\n",
       "\n",
       "    .dataframe thead th {\n",
       "        text-align: right;\n",
       "    }\n",
       "</style>\n",
       "<table border=\"1\" class=\"dataframe\">\n",
       "  <thead>\n",
       "    <tr style=\"text-align: right;\">\n",
       "      <th></th>\n",
       "      <th>customer_id</th>\n",
       "      <th>item_id</th>\n",
       "      <th>datetime</th>\n",
       "    </tr>\n",
       "  </thead>\n",
       "  <tbody>\n",
       "    <tr>\n",
       "      <th>0</th>\n",
       "      <td>485</td>\n",
       "      <td>ITEM-1</td>\n",
       "      <td>2019-07-14 16:00:00</td>\n",
       "    </tr>\n",
       "    <tr>\n",
       "      <th>1</th>\n",
       "      <td>769</td>\n",
       "      <td>ITEM-1</td>\n",
       "      <td>2019-03-25 07:00:00</td>\n",
       "    </tr>\n",
       "    <tr>\n",
       "      <th>2</th>\n",
       "      <td>769</td>\n",
       "      <td>ITEM-3</td>\n",
       "      <td>2019-04-10 07:00:00</td>\n",
       "    </tr>\n",
       "    <tr>\n",
       "      <th>3</th>\n",
       "      <td>485</td>\n",
       "      <td>ITEM-1</td>\n",
       "      <td>2019-04-11 01:00:00</td>\n",
       "    </tr>\n",
       "    <tr>\n",
       "      <th>4</th>\n",
       "      <td>769</td>\n",
       "      <td>ITEM-2</td>\n",
       "      <td>2019-06-03 14:00:00</td>\n",
       "    </tr>\n",
       "    <tr>\n",
       "      <th>5</th>\n",
       "      <td>485</td>\n",
       "      <td>ITEM-3</td>\n",
       "      <td>2019-06-14 18:00:00</td>\n",
       "    </tr>\n",
       "    <tr>\n",
       "      <th>6</th>\n",
       "      <td>769</td>\n",
       "      <td>ITEM-3</td>\n",
       "      <td>2019-04-08 00:00:00</td>\n",
       "    </tr>\n",
       "    <tr>\n",
       "      <th>7</th>\n",
       "      <td>769</td>\n",
       "      <td>ITEM-2</td>\n",
       "      <td>2018-04-17 03:00:00</td>\n",
       "    </tr>\n",
       "    <tr>\n",
       "      <th>8</th>\n",
       "      <td>769</td>\n",
       "      <td>ITEM-2</td>\n",
       "      <td>2018-07-02 19:00:00</td>\n",
       "    </tr>\n",
       "    <tr>\n",
       "      <th>9</th>\n",
       "      <td>213</td>\n",
       "      <td>ITEM-1</td>\n",
       "      <td>2019-05-23 11:00:00</td>\n",
       "    </tr>\n",
       "  </tbody>\n",
       "</table>\n",
       "</div>"
      ]
     },
     "execution_count": 6,
     "metadata": {},
     "output_type": "execute_result"
    }
   ],
   "execution_count": 6
  },
  {
   "metadata": {
    "ExecuteTime": {
     "end_time": "2024-08-25T10:51:39.638398Z",
     "start_time": "2024-08-25T10:51:39.628607Z"
    }
   },
   "cell_type": "code",
   "source": [
    "items_df.set_index(\"item_id\", inplace=True)\n",
    "items_df"
   ],
   "id": "a7aa18d551db39d2",
   "outputs": [
    {
     "data": {
      "text/plain": [
       "                   name  price\n",
       "item_id                       \n",
       "ITEM-1      Elite Melon  10.59\n",
       "ITEM-2   Wild Pineapple   5.79\n",
       "ITEM-3       Beast Pear   2.99"
      ],
      "text/html": [
       "<div>\n",
       "<style scoped>\n",
       "    .dataframe tbody tr th:only-of-type {\n",
       "        vertical-align: middle;\n",
       "    }\n",
       "\n",
       "    .dataframe tbody tr th {\n",
       "        vertical-align: top;\n",
       "    }\n",
       "\n",
       "    .dataframe thead th {\n",
       "        text-align: right;\n",
       "    }\n",
       "</style>\n",
       "<table border=\"1\" class=\"dataframe\">\n",
       "  <thead>\n",
       "    <tr style=\"text-align: right;\">\n",
       "      <th></th>\n",
       "      <th>name</th>\n",
       "      <th>price</th>\n",
       "    </tr>\n",
       "    <tr>\n",
       "      <th>item_id</th>\n",
       "      <th></th>\n",
       "      <th></th>\n",
       "    </tr>\n",
       "  </thead>\n",
       "  <tbody>\n",
       "    <tr>\n",
       "      <th>ITEM-1</th>\n",
       "      <td>Elite Melon</td>\n",
       "      <td>10.59</td>\n",
       "    </tr>\n",
       "    <tr>\n",
       "      <th>ITEM-2</th>\n",
       "      <td>Wild Pineapple</td>\n",
       "      <td>5.79</td>\n",
       "    </tr>\n",
       "    <tr>\n",
       "      <th>ITEM-3</th>\n",
       "      <td>Beast Pear</td>\n",
       "      <td>2.99</td>\n",
       "    </tr>\n",
       "  </tbody>\n",
       "</table>\n",
       "</div>"
      ]
     },
     "execution_count": 7,
     "metadata": {},
     "output_type": "execute_result"
    }
   ],
   "execution_count": 7
  },
  {
   "metadata": {
    "ExecuteTime": {
     "end_time": "2024-08-25T10:54:46.676013Z",
     "start_time": "2024-08-25T10:54:46.665212Z"
    }
   },
   "cell_type": "code",
   "source": [
    "customers_df.set_index(\"customer_id\", inplace=True)\n",
    "customers_df"
   ],
   "id": "3fbc519ff387de0a",
   "outputs": [
    {
     "data": {
      "text/plain": [
       "                name     surname\n",
       "customer_id                     \n",
       "213            Luiza     Walczak\n",
       "485           Blanka  Kalinowska\n",
       "769          Jaromir    Majewski\n",
       "304            Józef   Olszewski"
      ],
      "text/html": [
       "<div>\n",
       "<style scoped>\n",
       "    .dataframe tbody tr th:only-of-type {\n",
       "        vertical-align: middle;\n",
       "    }\n",
       "\n",
       "    .dataframe tbody tr th {\n",
       "        vertical-align: top;\n",
       "    }\n",
       "\n",
       "    .dataframe thead th {\n",
       "        text-align: right;\n",
       "    }\n",
       "</style>\n",
       "<table border=\"1\" class=\"dataframe\">\n",
       "  <thead>\n",
       "    <tr style=\"text-align: right;\">\n",
       "      <th></th>\n",
       "      <th>name</th>\n",
       "      <th>surname</th>\n",
       "    </tr>\n",
       "    <tr>\n",
       "      <th>customer_id</th>\n",
       "      <th></th>\n",
       "      <th></th>\n",
       "    </tr>\n",
       "  </thead>\n",
       "  <tbody>\n",
       "    <tr>\n",
       "      <th>213</th>\n",
       "      <td>Luiza</td>\n",
       "      <td>Walczak</td>\n",
       "    </tr>\n",
       "    <tr>\n",
       "      <th>485</th>\n",
       "      <td>Blanka</td>\n",
       "      <td>Kalinowska</td>\n",
       "    </tr>\n",
       "    <tr>\n",
       "      <th>769</th>\n",
       "      <td>Jaromir</td>\n",
       "      <td>Majewski</td>\n",
       "    </tr>\n",
       "    <tr>\n",
       "      <th>304</th>\n",
       "      <td>Józef</td>\n",
       "      <td>Olszewski</td>\n",
       "    </tr>\n",
       "  </tbody>\n",
       "</table>\n",
       "</div>"
      ]
     },
     "execution_count": 9,
     "metadata": {},
     "output_type": "execute_result"
    }
   ],
   "execution_count": 9
  },
  {
   "metadata": {
    "ExecuteTime": {
     "end_time": "2024-08-25T10:55:21.891026Z",
     "start_time": "2024-08-25T10:55:21.882761Z"
    }
   },
   "cell_type": "code",
   "source": "items_df",
   "id": "ee95cbc7a564dec3",
   "outputs": [
    {
     "data": {
      "text/plain": [
       "                   name  price\n",
       "item_id                       \n",
       "ITEM-1      Elite Melon  10.59\n",
       "ITEM-2   Wild Pineapple   5.79\n",
       "ITEM-3       Beast Pear   2.99"
      ],
      "text/html": [
       "<div>\n",
       "<style scoped>\n",
       "    .dataframe tbody tr th:only-of-type {\n",
       "        vertical-align: middle;\n",
       "    }\n",
       "\n",
       "    .dataframe tbody tr th {\n",
       "        vertical-align: top;\n",
       "    }\n",
       "\n",
       "    .dataframe thead th {\n",
       "        text-align: right;\n",
       "    }\n",
       "</style>\n",
       "<table border=\"1\" class=\"dataframe\">\n",
       "  <thead>\n",
       "    <tr style=\"text-align: right;\">\n",
       "      <th></th>\n",
       "      <th>name</th>\n",
       "      <th>price</th>\n",
       "    </tr>\n",
       "    <tr>\n",
       "      <th>item_id</th>\n",
       "      <th></th>\n",
       "      <th></th>\n",
       "    </tr>\n",
       "  </thead>\n",
       "  <tbody>\n",
       "    <tr>\n",
       "      <th>ITEM-1</th>\n",
       "      <td>Elite Melon</td>\n",
       "      <td>10.59</td>\n",
       "    </tr>\n",
       "    <tr>\n",
       "      <th>ITEM-2</th>\n",
       "      <td>Wild Pineapple</td>\n",
       "      <td>5.79</td>\n",
       "    </tr>\n",
       "    <tr>\n",
       "      <th>ITEM-3</th>\n",
       "      <td>Beast Pear</td>\n",
       "      <td>2.99</td>\n",
       "    </tr>\n",
       "  </tbody>\n",
       "</table>\n",
       "</div>"
      ]
     },
     "execution_count": 11,
     "metadata": {},
     "output_type": "execute_result"
    }
   ],
   "execution_count": 11
  },
  {
   "metadata": {
    "ExecuteTime": {
     "end_time": "2024-08-25T10:55:03.570313Z",
     "start_time": "2024-08-25T10:55:03.553082Z"
    }
   },
   "cell_type": "code",
   "source": [
    "items_df.set_index(\"item_id\", inplace=True)\n",
    "items_df"
   ],
   "id": "9da1f06237c457ec",
   "outputs": [
    {
     "ename": "KeyError",
     "evalue": "\"None of ['item_id'] are in the columns\"",
     "output_type": "error",
     "traceback": [
      "\u001B[1;31m---------------------------------------------------------------------------\u001B[0m",
      "\u001B[1;31mKeyError\u001B[0m                                  Traceback (most recent call last)",
      "\u001B[1;32m~\\AppData\\Local\\Temp\\ipykernel_11152\\1903788513.py\u001B[0m in \u001B[0;36m?\u001B[1;34m()\u001B[0m\n\u001B[1;32m----> 1\u001B[1;33m \u001B[0mitems_df\u001B[0m\u001B[1;33m.\u001B[0m\u001B[0mset_index\u001B[0m\u001B[1;33m(\u001B[0m\u001B[1;34m\"item_id\"\u001B[0m\u001B[1;33m,\u001B[0m \u001B[0minplace\u001B[0m\u001B[1;33m=\u001B[0m\u001B[1;32mTrue\u001B[0m\u001B[1;33m)\u001B[0m\u001B[1;33m\u001B[0m\u001B[1;33m\u001B[0m\u001B[0m\n\u001B[0m\u001B[0;32m      2\u001B[0m \u001B[0mitems_df\u001B[0m\u001B[1;33m\u001B[0m\u001B[1;33m\u001B[0m\u001B[0m\n",
      "\u001B[1;32m~\\miniconda3\\Lib\\site-packages\\pandas\\core\\frame.py\u001B[0m in \u001B[0;36m?\u001B[1;34m(self, keys, drop, append, inplace, verify_integrity)\u001B[0m\n\u001B[0;32m   6105\u001B[0m                     \u001B[1;32mif\u001B[0m \u001B[1;32mnot\u001B[0m \u001B[0mfound\u001B[0m\u001B[1;33m:\u001B[0m\u001B[1;33m\u001B[0m\u001B[1;33m\u001B[0m\u001B[0m\n\u001B[0;32m   6106\u001B[0m                         \u001B[0mmissing\u001B[0m\u001B[1;33m.\u001B[0m\u001B[0mappend\u001B[0m\u001B[1;33m(\u001B[0m\u001B[0mcol\u001B[0m\u001B[1;33m)\u001B[0m\u001B[1;33m\u001B[0m\u001B[1;33m\u001B[0m\u001B[0m\n\u001B[0;32m   6107\u001B[0m \u001B[1;33m\u001B[0m\u001B[0m\n\u001B[0;32m   6108\u001B[0m         \u001B[1;32mif\u001B[0m \u001B[0mmissing\u001B[0m\u001B[1;33m:\u001B[0m\u001B[1;33m\u001B[0m\u001B[1;33m\u001B[0m\u001B[0m\n\u001B[1;32m-> 6109\u001B[1;33m             \u001B[1;32mraise\u001B[0m \u001B[0mKeyError\u001B[0m\u001B[1;33m(\u001B[0m\u001B[1;33mf\"\u001B[0m\u001B[1;33mNone of \u001B[0m\u001B[1;33m{\u001B[0m\u001B[0mmissing\u001B[0m\u001B[1;33m}\u001B[0m\u001B[1;33m are in the columns\u001B[0m\u001B[1;33m\"\u001B[0m\u001B[1;33m)\u001B[0m\u001B[1;33m\u001B[0m\u001B[1;33m\u001B[0m\u001B[0m\n\u001B[0m\u001B[0;32m   6110\u001B[0m \u001B[1;33m\u001B[0m\u001B[0m\n\u001B[0;32m   6111\u001B[0m         \u001B[1;32mif\u001B[0m \u001B[0minplace\u001B[0m\u001B[1;33m:\u001B[0m\u001B[1;33m\u001B[0m\u001B[1;33m\u001B[0m\u001B[0m\n\u001B[0;32m   6112\u001B[0m             \u001B[0mframe\u001B[0m \u001B[1;33m=\u001B[0m \u001B[0mself\u001B[0m\u001B[1;33m\u001B[0m\u001B[1;33m\u001B[0m\u001B[0m\n",
      "\u001B[1;31mKeyError\u001B[0m: \"None of ['item_id'] are in the columns\""
     ]
    }
   ],
   "execution_count": 10
  },
  {
   "metadata": {
    "ExecuteTime": {
     "end_time": "2024-08-25T10:55:52.401994Z",
     "start_time": "2024-08-25T10:55:52.390946Z"
    }
   },
   "cell_type": "code",
   "source": "orders_df.join(customers_df, on=\"customer_id\")",
   "id": "f660069cbbab24fe",
   "outputs": [
    {
     "data": {
      "text/plain": [
       "   customer_id item_id             datetime     name     surname\n",
       "0          485  ITEM-1  2019-07-14 16:00:00   Blanka  Kalinowska\n",
       "1          769  ITEM-1  2019-03-25 07:00:00  Jaromir    Majewski\n",
       "2          769  ITEM-3  2019-04-10 07:00:00  Jaromir    Majewski\n",
       "3          485  ITEM-1  2019-04-11 01:00:00   Blanka  Kalinowska\n",
       "4          769  ITEM-2  2019-06-03 14:00:00  Jaromir    Majewski\n",
       "5          485  ITEM-3  2019-06-14 18:00:00   Blanka  Kalinowska\n",
       "6          769  ITEM-3  2019-04-08 00:00:00  Jaromir    Majewski\n",
       "7          769  ITEM-2  2018-04-17 03:00:00  Jaromir    Majewski\n",
       "8          769  ITEM-2  2018-07-02 19:00:00  Jaromir    Majewski\n",
       "9          213  ITEM-1  2019-05-23 11:00:00    Luiza     Walczak"
      ],
      "text/html": [
       "<div>\n",
       "<style scoped>\n",
       "    .dataframe tbody tr th:only-of-type {\n",
       "        vertical-align: middle;\n",
       "    }\n",
       "\n",
       "    .dataframe tbody tr th {\n",
       "        vertical-align: top;\n",
       "    }\n",
       "\n",
       "    .dataframe thead th {\n",
       "        text-align: right;\n",
       "    }\n",
       "</style>\n",
       "<table border=\"1\" class=\"dataframe\">\n",
       "  <thead>\n",
       "    <tr style=\"text-align: right;\">\n",
       "      <th></th>\n",
       "      <th>customer_id</th>\n",
       "      <th>item_id</th>\n",
       "      <th>datetime</th>\n",
       "      <th>name</th>\n",
       "      <th>surname</th>\n",
       "    </tr>\n",
       "  </thead>\n",
       "  <tbody>\n",
       "    <tr>\n",
       "      <th>0</th>\n",
       "      <td>485</td>\n",
       "      <td>ITEM-1</td>\n",
       "      <td>2019-07-14 16:00:00</td>\n",
       "      <td>Blanka</td>\n",
       "      <td>Kalinowska</td>\n",
       "    </tr>\n",
       "    <tr>\n",
       "      <th>1</th>\n",
       "      <td>769</td>\n",
       "      <td>ITEM-1</td>\n",
       "      <td>2019-03-25 07:00:00</td>\n",
       "      <td>Jaromir</td>\n",
       "      <td>Majewski</td>\n",
       "    </tr>\n",
       "    <tr>\n",
       "      <th>2</th>\n",
       "      <td>769</td>\n",
       "      <td>ITEM-3</td>\n",
       "      <td>2019-04-10 07:00:00</td>\n",
       "      <td>Jaromir</td>\n",
       "      <td>Majewski</td>\n",
       "    </tr>\n",
       "    <tr>\n",
       "      <th>3</th>\n",
       "      <td>485</td>\n",
       "      <td>ITEM-1</td>\n",
       "      <td>2019-04-11 01:00:00</td>\n",
       "      <td>Blanka</td>\n",
       "      <td>Kalinowska</td>\n",
       "    </tr>\n",
       "    <tr>\n",
       "      <th>4</th>\n",
       "      <td>769</td>\n",
       "      <td>ITEM-2</td>\n",
       "      <td>2019-06-03 14:00:00</td>\n",
       "      <td>Jaromir</td>\n",
       "      <td>Majewski</td>\n",
       "    </tr>\n",
       "    <tr>\n",
       "      <th>5</th>\n",
       "      <td>485</td>\n",
       "      <td>ITEM-3</td>\n",
       "      <td>2019-06-14 18:00:00</td>\n",
       "      <td>Blanka</td>\n",
       "      <td>Kalinowska</td>\n",
       "    </tr>\n",
       "    <tr>\n",
       "      <th>6</th>\n",
       "      <td>769</td>\n",
       "      <td>ITEM-3</td>\n",
       "      <td>2019-04-08 00:00:00</td>\n",
       "      <td>Jaromir</td>\n",
       "      <td>Majewski</td>\n",
       "    </tr>\n",
       "    <tr>\n",
       "      <th>7</th>\n",
       "      <td>769</td>\n",
       "      <td>ITEM-2</td>\n",
       "      <td>2018-04-17 03:00:00</td>\n",
       "      <td>Jaromir</td>\n",
       "      <td>Majewski</td>\n",
       "    </tr>\n",
       "    <tr>\n",
       "      <th>8</th>\n",
       "      <td>769</td>\n",
       "      <td>ITEM-2</td>\n",
       "      <td>2018-07-02 19:00:00</td>\n",
       "      <td>Jaromir</td>\n",
       "      <td>Majewski</td>\n",
       "    </tr>\n",
       "    <tr>\n",
       "      <th>9</th>\n",
       "      <td>213</td>\n",
       "      <td>ITEM-1</td>\n",
       "      <td>2019-05-23 11:00:00</td>\n",
       "      <td>Luiza</td>\n",
       "      <td>Walczak</td>\n",
       "    </tr>\n",
       "  </tbody>\n",
       "</table>\n",
       "</div>"
      ]
     },
     "execution_count": 12,
     "metadata": {},
     "output_type": "execute_result"
    }
   ],
   "execution_count": 12
  },
  {
   "metadata": {
    "ExecuteTime": {
     "end_time": "2024-08-25T11:00:05.816278Z",
     "start_time": "2024-08-25T11:00:05.803922Z"
    }
   },
   "cell_type": "code",
   "source": [
    "customers_items_df = orders_df.groupby([\"customer_id\", \"item_id\"]).count()\n",
    "customers_items_df"
   ],
   "id": "fbc7fa82a981ae87",
   "outputs": [
    {
     "data": {
      "text/plain": [
       "                     datetime\n",
       "customer_id item_id          \n",
       "213         ITEM-1          1\n",
       "485         ITEM-1          2\n",
       "            ITEM-3          1\n",
       "769         ITEM-1          1\n",
       "            ITEM-2          3\n",
       "            ITEM-3          2"
      ],
      "text/html": [
       "<div>\n",
       "<style scoped>\n",
       "    .dataframe tbody tr th:only-of-type {\n",
       "        vertical-align: middle;\n",
       "    }\n",
       "\n",
       "    .dataframe tbody tr th {\n",
       "        vertical-align: top;\n",
       "    }\n",
       "\n",
       "    .dataframe thead th {\n",
       "        text-align: right;\n",
       "    }\n",
       "</style>\n",
       "<table border=\"1\" class=\"dataframe\">\n",
       "  <thead>\n",
       "    <tr style=\"text-align: right;\">\n",
       "      <th></th>\n",
       "      <th></th>\n",
       "      <th>datetime</th>\n",
       "    </tr>\n",
       "    <tr>\n",
       "      <th>customer_id</th>\n",
       "      <th>item_id</th>\n",
       "      <th></th>\n",
       "    </tr>\n",
       "  </thead>\n",
       "  <tbody>\n",
       "    <tr>\n",
       "      <th>213</th>\n",
       "      <th>ITEM-1</th>\n",
       "      <td>1</td>\n",
       "    </tr>\n",
       "    <tr>\n",
       "      <th rowspan=\"2\" valign=\"top\">485</th>\n",
       "      <th>ITEM-1</th>\n",
       "      <td>2</td>\n",
       "    </tr>\n",
       "    <tr>\n",
       "      <th>ITEM-3</th>\n",
       "      <td>1</td>\n",
       "    </tr>\n",
       "    <tr>\n",
       "      <th rowspan=\"3\" valign=\"top\">769</th>\n",
       "      <th>ITEM-1</th>\n",
       "      <td>1</td>\n",
       "    </tr>\n",
       "    <tr>\n",
       "      <th>ITEM-2</th>\n",
       "      <td>3</td>\n",
       "    </tr>\n",
       "    <tr>\n",
       "      <th>ITEM-3</th>\n",
       "      <td>2</td>\n",
       "    </tr>\n",
       "  </tbody>\n",
       "</table>\n",
       "</div>"
      ]
     },
     "execution_count": 13,
     "metadata": {},
     "output_type": "execute_result"
    }
   ],
   "execution_count": 13
  },
  {
   "metadata": {
    "ExecuteTime": {
     "end_time": "2024-08-25T11:02:00.229851Z",
     "start_time": "2024-08-25T11:02:00.225847Z"
    }
   },
   "cell_type": "code",
   "source": [
    "customers_items_df.rename(columns={\"datetime\": \"no_orders\"},\n",
    "                          inplace=True)"
   ],
   "id": "c54e8be1a1c84d9",
   "outputs": [],
   "execution_count": 14
  },
  {
   "metadata": {
    "ExecuteTime": {
     "end_time": "2024-08-25T11:02:41.709987Z",
     "start_time": "2024-08-25T11:02:41.698946Z"
    }
   },
   "cell_type": "code",
   "source": [
    "customers_items_df.reset_index(inplace=True)\n",
    "customers_items_df.set_index(\"customer_id\",\n",
    "                             inplace=True,\n",
    "                             drop=True)\n",
    "customers_items_df"
   ],
   "id": "dd04d01896340aab",
   "outputs": [
    {
     "data": {
      "text/plain": [
       "            item_id  no_orders\n",
       "customer_id                   \n",
       "213          ITEM-1          1\n",
       "485          ITEM-1          2\n",
       "485          ITEM-3          1\n",
       "769          ITEM-1          1\n",
       "769          ITEM-2          3\n",
       "769          ITEM-3          2"
      ],
      "text/html": [
       "<div>\n",
       "<style scoped>\n",
       "    .dataframe tbody tr th:only-of-type {\n",
       "        vertical-align: middle;\n",
       "    }\n",
       "\n",
       "    .dataframe tbody tr th {\n",
       "        vertical-align: top;\n",
       "    }\n",
       "\n",
       "    .dataframe thead th {\n",
       "        text-align: right;\n",
       "    }\n",
       "</style>\n",
       "<table border=\"1\" class=\"dataframe\">\n",
       "  <thead>\n",
       "    <tr style=\"text-align: right;\">\n",
       "      <th></th>\n",
       "      <th>item_id</th>\n",
       "      <th>no_orders</th>\n",
       "    </tr>\n",
       "    <tr>\n",
       "      <th>customer_id</th>\n",
       "      <th></th>\n",
       "      <th></th>\n",
       "    </tr>\n",
       "  </thead>\n",
       "  <tbody>\n",
       "    <tr>\n",
       "      <th>213</th>\n",
       "      <td>ITEM-1</td>\n",
       "      <td>1</td>\n",
       "    </tr>\n",
       "    <tr>\n",
       "      <th>485</th>\n",
       "      <td>ITEM-1</td>\n",
       "      <td>2</td>\n",
       "    </tr>\n",
       "    <tr>\n",
       "      <th>485</th>\n",
       "      <td>ITEM-3</td>\n",
       "      <td>1</td>\n",
       "    </tr>\n",
       "    <tr>\n",
       "      <th>769</th>\n",
       "      <td>ITEM-1</td>\n",
       "      <td>1</td>\n",
       "    </tr>\n",
       "    <tr>\n",
       "      <th>769</th>\n",
       "      <td>ITEM-2</td>\n",
       "      <td>3</td>\n",
       "    </tr>\n",
       "    <tr>\n",
       "      <th>769</th>\n",
       "      <td>ITEM-3</td>\n",
       "      <td>2</td>\n",
       "    </tr>\n",
       "  </tbody>\n",
       "</table>\n",
       "</div>"
      ]
     },
     "execution_count": 15,
     "metadata": {},
     "output_type": "execute_result"
    }
   ],
   "execution_count": 15
  },
  {
   "metadata": {
    "ExecuteTime": {
     "end_time": "2024-08-25T11:08:50.473708Z",
     "start_time": "2024-08-25T11:08:50.447752Z"
    }
   },
   "cell_type": "code",
   "source": [
    "for item_id in items_df.index.unique():\n",
    "    item_orders_df = customers_items_df.query(\"item_id == @item_id\")\n",
    "    customers_df = customers_df \\\n",
    "        .join(item_orders_df[\"no_orders\"], how=\"left\") \\\n",
    "        .rename(columns={\"no_orders\": item_id})\n",
    "    \n",
    "customers_df"
   ],
   "id": "c071bfb3da701429",
   "outputs": [
    {
     "data": {
      "text/plain": [
       "                name     surname  ITEM-1  ITEM-2  ITEM-3\n",
       "customer_id                                             \n",
       "213            Luiza     Walczak     1.0     NaN     NaN\n",
       "485           Blanka  Kalinowska     2.0     NaN     1.0\n",
       "769          Jaromir    Majewski     1.0     3.0     2.0\n",
       "304            Józef   Olszewski     NaN     NaN     NaN"
      ],
      "text/html": [
       "<div>\n",
       "<style scoped>\n",
       "    .dataframe tbody tr th:only-of-type {\n",
       "        vertical-align: middle;\n",
       "    }\n",
       "\n",
       "    .dataframe tbody tr th {\n",
       "        vertical-align: top;\n",
       "    }\n",
       "\n",
       "    .dataframe thead th {\n",
       "        text-align: right;\n",
       "    }\n",
       "</style>\n",
       "<table border=\"1\" class=\"dataframe\">\n",
       "  <thead>\n",
       "    <tr style=\"text-align: right;\">\n",
       "      <th></th>\n",
       "      <th>name</th>\n",
       "      <th>surname</th>\n",
       "      <th>ITEM-1</th>\n",
       "      <th>ITEM-2</th>\n",
       "      <th>ITEM-3</th>\n",
       "    </tr>\n",
       "    <tr>\n",
       "      <th>customer_id</th>\n",
       "      <th></th>\n",
       "      <th></th>\n",
       "      <th></th>\n",
       "      <th></th>\n",
       "      <th></th>\n",
       "    </tr>\n",
       "  </thead>\n",
       "  <tbody>\n",
       "    <tr>\n",
       "      <th>213</th>\n",
       "      <td>Luiza</td>\n",
       "      <td>Walczak</td>\n",
       "      <td>1.0</td>\n",
       "      <td>NaN</td>\n",
       "      <td>NaN</td>\n",
       "    </tr>\n",
       "    <tr>\n",
       "      <th>485</th>\n",
       "      <td>Blanka</td>\n",
       "      <td>Kalinowska</td>\n",
       "      <td>2.0</td>\n",
       "      <td>NaN</td>\n",
       "      <td>1.0</td>\n",
       "    </tr>\n",
       "    <tr>\n",
       "      <th>769</th>\n",
       "      <td>Jaromir</td>\n",
       "      <td>Majewski</td>\n",
       "      <td>1.0</td>\n",
       "      <td>3.0</td>\n",
       "      <td>2.0</td>\n",
       "    </tr>\n",
       "    <tr>\n",
       "      <th>304</th>\n",
       "      <td>Józef</td>\n",
       "      <td>Olszewski</td>\n",
       "      <td>NaN</td>\n",
       "      <td>NaN</td>\n",
       "      <td>NaN</td>\n",
       "    </tr>\n",
       "  </tbody>\n",
       "</table>\n",
       "</div>"
      ]
     },
     "execution_count": 18,
     "metadata": {},
     "output_type": "execute_result"
    }
   ],
   "execution_count": 18
  },
  {
   "metadata": {
    "ExecuteTime": {
     "end_time": "2024-08-25T11:11:25.006512Z",
     "start_time": "2024-08-25T11:11:24.993972Z"
    }
   },
   "cell_type": "code",
   "source": "customers_df.fillna(0.0)",
   "id": "d6bc59e40def7b47",
   "outputs": [
    {
     "data": {
      "text/plain": [
       "                name     surname  ITEM-1  ITEM-2  ITEM-3\n",
       "customer_id                                             \n",
       "213            Luiza     Walczak     1.0     0.0     0.0\n",
       "485           Blanka  Kalinowska     2.0     0.0     1.0\n",
       "769          Jaromir    Majewski     1.0     3.0     2.0\n",
       "304            Józef   Olszewski     0.0     0.0     0.0"
      ],
      "text/html": [
       "<div>\n",
       "<style scoped>\n",
       "    .dataframe tbody tr th:only-of-type {\n",
       "        vertical-align: middle;\n",
       "    }\n",
       "\n",
       "    .dataframe tbody tr th {\n",
       "        vertical-align: top;\n",
       "    }\n",
       "\n",
       "    .dataframe thead th {\n",
       "        text-align: right;\n",
       "    }\n",
       "</style>\n",
       "<table border=\"1\" class=\"dataframe\">\n",
       "  <thead>\n",
       "    <tr style=\"text-align: right;\">\n",
       "      <th></th>\n",
       "      <th>name</th>\n",
       "      <th>surname</th>\n",
       "      <th>ITEM-1</th>\n",
       "      <th>ITEM-2</th>\n",
       "      <th>ITEM-3</th>\n",
       "    </tr>\n",
       "    <tr>\n",
       "      <th>customer_id</th>\n",
       "      <th></th>\n",
       "      <th></th>\n",
       "      <th></th>\n",
       "      <th></th>\n",
       "      <th></th>\n",
       "    </tr>\n",
       "  </thead>\n",
       "  <tbody>\n",
       "    <tr>\n",
       "      <th>213</th>\n",
       "      <td>Luiza</td>\n",
       "      <td>Walczak</td>\n",
       "      <td>1.0</td>\n",
       "      <td>0.0</td>\n",
       "      <td>0.0</td>\n",
       "    </tr>\n",
       "    <tr>\n",
       "      <th>485</th>\n",
       "      <td>Blanka</td>\n",
       "      <td>Kalinowska</td>\n",
       "      <td>2.0</td>\n",
       "      <td>0.0</td>\n",
       "      <td>1.0</td>\n",
       "    </tr>\n",
       "    <tr>\n",
       "      <th>769</th>\n",
       "      <td>Jaromir</td>\n",
       "      <td>Majewski</td>\n",
       "      <td>1.0</td>\n",
       "      <td>3.0</td>\n",
       "      <td>2.0</td>\n",
       "    </tr>\n",
       "    <tr>\n",
       "      <th>304</th>\n",
       "      <td>Józef</td>\n",
       "      <td>Olszewski</td>\n",
       "      <td>0.0</td>\n",
       "      <td>0.0</td>\n",
       "      <td>0.0</td>\n",
       "    </tr>\n",
       "  </tbody>\n",
       "</table>\n",
       "</div>"
      ]
     },
     "execution_count": 19,
     "metadata": {},
     "output_type": "execute_result"
    }
   ],
   "execution_count": 19
  },
  {
   "metadata": {},
   "cell_type": "code",
   "outputs": [],
   "execution_count": null,
   "source": "",
   "id": "6ff19819203a820f"
  }
 ],
 "metadata": {
  "kernelspec": {
   "display_name": "Python 3",
   "language": "python",
   "name": "python3"
  },
  "language_info": {
   "codemirror_mode": {
    "name": "ipython",
    "version": 2
   },
   "file_extension": ".py",
   "mimetype": "text/x-python",
   "name": "python",
   "nbconvert_exporter": "python",
   "pygments_lexer": "ipython2",
   "version": "2.7.6"
  }
 },
 "nbformat": 4,
 "nbformat_minor": 5
}
